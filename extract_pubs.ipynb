{
 "cells": [
  {
   "cell_type": "code",
   "execution_count": 13,
   "metadata": {
    "collapsed": false,
    "deletable": true,
    "editable": true
   },
   "outputs": [
    {
     "name": "stdout",
     "output_type": "stream",
     "text": [
      "\n"
     ]
    }
   ],
   "source": [
    "from imposm.parser import OSMParser\n"
   ]
  },
  {
   "cell_type": "code",
   "execution_count": 4,
   "metadata": {
    "collapsed": false,
    "deletable": true,
    "editable": true
   },
   "outputs": [
    {
     "name": "stdout",
     "output_type": "stream",
     "text": [
      "1831207\n"
     ]
    }
   ],
   "source": [
    "from imposm.parser import OSMParser\n",
    "\n",
    "# simple class that handles the parsed OSM data.\n",
    "class HighwayCounter(object):\n",
    "    highways = 0\n",
    "\n",
    "    def ways(self, ways):\n",
    "        # callback method for ways\n",
    "        for osmid, tags, refs in ways:\n",
    "            if 'highway' in tags:\n",
    "              self.highways += 1\n",
    "\n",
    "# instantiate counter and parser and start parsing\n",
    "counter = HighwayCounter()\n",
    "p = OSMParser(concurrency=24, ways_callback=counter.ways)\n",
    "p.parse('static/data/australia-oceania-latest.osm')\n",
    "\n",
    "# done\n",
    "print counter.highways"
   ]
  },
  {
   "cell_type": "code",
   "execution_count": 9,
   "metadata": {
    "collapsed": false,
    "deletable": true,
    "editable": true
   },
   "outputs": [],
   "source": [
    "#(982347, {'name': 'Somewhere', 'place': 'village'}, (-120.2, 23.21))\n",
    "\n",
    "whitelist = set((\"Rosie O'Grady's\"))\n",
    "\n",
    "def tag_filter(tags):\n",
    "    for ids, data, cords in tags:\n",
    "        for key in data.keys:\n",
    "            if key not in whitelist:\n",
    "                del data[key]\n",
    "    #if 'name' in tags and len(tags) == 1:\n",
    "        # tags with only a name have no information\n",
    "        # how to handle this element\n",
    "    #    del tags['name']"
   ]
  },
  {
   "cell_type": "code",
   "execution_count": 10,
   "metadata": {
    "collapsed": true,
    "deletable": true,
    "editable": true
   },
   "outputs": [],
   "source": [
    "ro = OSMParser(concurrency=24, coords_callback=tag_filter)"
   ]
  },
  {
   "cell_type": "code",
   "execution_count": 14,
   "metadata": {
    "collapsed": false,
    "deletable": true,
    "editable": true
   },
   "outputs": [],
   "source": [
    "test = []\n",
    "def coords_callback(coords):\n",
    "    for osm_id, lon, lat in coords:\n",
    "        print '%s %.4f %.4f' % (osm_id, lon, lat)\n",
    "test = OSMParser(concurrency=24, nodes_callback=tag_filter)\n",
    "ro.parse('static/data/australia-oceania-latest.osm')"
   ]
  },
  {
   "cell_type": "code",
   "execution_count": 58,
   "metadata": {
    "collapsed": true,
    "deletable": true,
    "editable": true
   },
   "outputs": [],
   "source": [
    "# whitelist = [\"Rosie O'Grady's\"]\n",
    "tmp = []\n",
    "def nodes_callback(nodes):\n",
    "    for osm_id, data, lat in nodes:\n",
    "        for key in data:\n",
    "            if key == 'amenity':\n",
    "                cl = data[key]\n",
    "                if cl == 'pub':\n",
    "                    tmp.append((osm_id, data, lat))\n",
    "            \n",
    "        "
   ]
  },
  {
   "cell_type": "code",
   "execution_count": 59,
   "metadata": {
    "collapsed": false
   },
   "outputs": [],
   "source": [
    "test = OSMParser(concurrency=24, nodes_callback=nodes_callback)\n",
    "test.parse('static/data/australia-oceania-latest.osm')"
   ]
  },
  {
   "cell_type": "code",
   "execution_count": 60,
   "metadata": {
    "collapsed": false
   },
   "outputs": [
    {
     "data": {
      "text/plain": [
       "3300"
      ]
     },
     "execution_count": 60,
     "metadata": {},
     "output_type": "execute_result"
    }
   ],
   "source": [
    "len(tmp)"
   ]
  },
  {
   "cell_type": "code",
   "execution_count": 61,
   "metadata": {
    "collapsed": false
   },
   "outputs": [
    {
     "data": {
      "text/plain": [
       "(17990947,\n",
       " {'addr:city': 'Camperdown',\n",
       "  'addr:housenumber': '138',\n",
       "  'addr:postcode': '2050',\n",
       "  'addr:street': 'Parramatta Road',\n",
       "  'amenity': 'pub',\n",
       "  'name': 'The Camperdown Hotel',\n",
       "  'opening_hours': 'Mo-Fr 10:00-24:00, Sa 10:00-02:00, Su 12:00-24:00',\n",
       "  'phone': '+61 2 9557 1615',\n",
       "  'smoking': 'no',\n",
       "  'website': 'http://www.camperdownhotel.com.au/'},\n",
       " (151.1774487, -33.8864849))"
      ]
     },
     "execution_count": 61,
     "metadata": {},
     "output_type": "execute_result"
    }
   ],
   "source": [
    "tmp[0]"
   ]
  },
  {
   "cell_type": "code",
   "execution_count": 81,
   "metadata": {
    "collapsed": false
   },
   "outputs": [],
   "source": [
    "import csv\n",
    "out = open('static/data/data.csv', 'w')\n",
    "csv_writer = csv.writer(out)"
   ]
  },
  {
   "cell_type": "code",
   "execution_count": 82,
   "metadata": {
    "collapsed": false
   },
   "outputs": [],
   "source": [
    "def filterDict(dic, key):\n",
    "    try:\n",
    "        name = dic[key]\n",
    "    except KeyError:\n",
    "        name = \"\"\n",
    "    return name\n",
    "\n",
    "for line in tmp:\n",
    "    data = []\n",
    "    ids, info, cords = line\n",
    "    name = filterDict(info, 'name')\n",
    "    if name == \"\":\n",
    "        name = filterDict(info, 'name:en')\n",
    "    data.append(name)    \n",
    "    data.append(filterDict(info, 'addr:housenumber'))\n",
    "    data.append(filterDict(info, 'addr:street'))\n",
    "    data.append(filterDict(info, 'city'))\n",
    "    data.append(cords[0])\n",
    "    data.append(cords[1])\n",
    "    csv_writer.writerow([unicode(s).encode(\"utf-8\") for s in data])\n",
    "        \n",
    "    "
   ]
  },
  {
   "cell_type": "code",
   "execution_count": 86,
   "metadata": {
    "collapsed": false
   },
   "outputs": [],
   "source": [
    "out.close()"
   ]
  },
  {
   "cell_type": "code",
   "execution_count": 85,
   "metadata": {
    "collapsed": false
   },
   "outputs": [
    {
     "name": "stdout",
     "output_type": "stream",
     "text": [
      "(17022323, {'amenity': 'pub', 'is_in': 'Australia, NSW, New South Wales, Port Macquarie'}, (152.9146257, -31.4781833))\n",
      "(21294357, {'amenity': 'pub', 'is_in': 'Australia, QLD, Queensland, Dalby'}, (151.2672202, -27.1804632))\n",
      "(60436297, {'amenity': 'pub', 'created_by': 'Potlatch alpha'}, (146.7311879, -19.3621207))\n",
      "(53762403, {'amenity': 'pub', 'created_by': 'JOSM'}, (115.6830854, -31.5441825))\n",
      "(60189064, {'amenity': 'pub'}, (115.7615932, -32.0790857))\n",
      "(240684011, {'source': 'knowledge;Yahoo', 'amenity': 'pub'}, (138.5664393, -34.9147611))\n",
      "(241896293, {'amenity': 'pub'}, (150.9716024, -33.7737398))\n",
      "(276302781, {'amenity': 'pub', 'created_by': 'Potlatch 0.9c'}, (116.0114387, -31.9943498))\n",
      "(272119597, {'amenity': 'pub'}, (150.7884881, -33.6080893))\n",
      "(277629568, {'amenity': 'pub', 'created_by': 'Potlatch 0.9c'}, (115.7468094, -31.8309477))\n",
      "(291144798, {'amenity': 'pub'}, (172.5677525, -43.5744144))\n",
      "(304950615, {'amenity': 'pub'}, (117.8492162, -28.0648641))\n",
      "(304950620, {'amenity': 'pub'}, (117.8484437, -28.0641067))\n",
      "(277361654, {'amenity': 'pub', 'created_by': 'Potlatch 0.9c'}, (115.7526283, -31.7967822))\n",
      "(310732888, {'amenity': 'pub', 'created_by': 'Potlatch 0.10f'}, (115.8089727, -32.0312535))\n",
      "(289564731, {'amenity': 'pub'}, (150.8879629, -34.484505))\n",
      "(280701319, {'amenity': 'pub', 'created_by': 'xybot'}, (150.8901479, -34.4261143))\n",
      "(314060900, {'amenity': 'pub'}, (171.1906385, -42.4686615))\n",
      "(303469595, {'amenity': 'pub'}, (138.8648269, -35.0485746))\n",
      "(298678202, {'amenity': 'pub'}, (152.5656785, -26.9442247))\n",
      "(320828400, {'amenity': 'pub'}, (148.5568283, -34.6017658))\n",
      "(353671649, {'amenity': 'pub'}, (151.6235361, -32.949987))\n",
      "(370273400, {'amenity': 'pub'}, (147.3786041, -35.1204589))\n",
      "(410775877, {'amenity': 'pub'}, (172.4743706, -43.5556682))\n",
      "(415515200, {'amenity': 'pub'}, (145.1226082, -38.143539))\n",
      "(442954339, {'amenity': 'pub'}, (149.9609663, -26.121407))\n",
      "(448610076, {'amenity': 'pub'}, (150.8956116, -33.9031587))\n",
      "(472503234, {'amenity': 'pub'}, (138.8754404, -34.9528895))\n",
      "(440148110, {'amenity': 'pub'}, (116.1529757, -33.3583528))\n",
      "(450521801, {'amenity': 'pub'}, (137.9017444, -34.0388986))\n",
      "(519717726, {'amenity': 'pub'}, (150.458628, -27.2767264))\n",
      "(506831048, {'amenity': 'pub'}, (151.9153584, -27.4268545))\n",
      "(519556652, {'amenity': 'pub'}, (145.1253583, -38.0888442))\n",
      "(567363622, {'amenity': 'pub'}, (116.2080913, -31.8797528))\n",
      "(567366840, {'amenity': 'pub'}, (116.2047869, -31.9037795))\n",
      "(567374902, {'amenity': 'pub'}, (116.1658712, -31.9035828))\n",
      "(586177810, {'amenity': 'pub'}, (153.0255215, -27.4670564))\n",
      "(606308651, {'amenity': 'pub'}, (138.5913863, -35.0751202))\n",
      "(614532099, {'amenity': 'pub'}, (146.3789663, -36.5765692))\n",
      "(655115952, {'amenity': 'pub'}, (144.0507203, -37.5545707))\n",
      "(611529224, {'amenity': 'pub'}, (138.5012521, -35.1825521))\n",
      "(608986585, {'amenity': 'pub'}, (173.7671929, -41.2793165))\n",
      "(686358256, {'amenity': 'pub'}, (147.7695783, -36.1914677))\n",
      "(596833169, {'amenity': 'pub'}, (153.3649532, -28.0771442))\n",
      "(718476170, {'amenity': 'pub'}, (145.8330064, -41.0420919))\n",
      "(715224315, {'amenity': 'pub'}, (151.2377919, -33.8901215))\n",
      "(760856547, {'amenity': 'pub'}, (145.0046108, -37.4168659))\n",
      "(704988966, {'amenity': 'pub'}, (115.1066298, -33.6169713))\n",
      "(794940045, {'amenity': 'pub'}, (153.080622, -27.5621889))\n",
      "(810918008, {'amenity': 'pub'}, (145.2186225, -37.738497))\n",
      "(704427315, {'amenity': 'pub'}, (142.9196813, -38.2416027))\n",
      "(726429115, {'amenity': 'pub'}, (152.1012695, -26.8854508))\n",
      "(752181842, {'amenity': 'pub'}, (139.2758933, -35.1178429))\n",
      "(752181852, {'amenity': 'pub'}, (139.0398797, -35.1152915))\n",
      "(730239984, {'amenity': 'pub'}, (145.1518077, -37.9496928))\n",
      "(775447182, {'amenity': 'pub'}, (175.0114663, -41.1476903))\n",
      "(880536295, {'amenity': 'pub'}, (145.4759159, -17.2663857))\n",
      "(880536464, {'amenity': 'pub'}, (145.4754417, -17.2672018))\n",
      "(880537095, {'amenity': 'pub'}, (145.4756136, -17.2658443))\n",
      "(880537460, {'amenity': 'pub'}, (145.4760876, -17.2650948))\n",
      "(894927709, {'amenity': 'pub'}, (144.7280374, -37.5819598))\n",
      "(865380187, {'amenity': 'pub'}, (146.8465568, -19.1712181))\n",
      "(896706514, {'amenity': 'pub'}, (153.5058838, -28.1950189))\n",
      "(885780481, {'amenity': 'pub'}, (175.5410083, -37.1360122))\n",
      "(885780482, {'amenity': 'pub'}, (175.5433159, -37.1376921))\n",
      "(988623318, {'amenity': 'pub'}, (153.0954412, -26.4806833))\n",
      "(983328228, {'source': 'voice', 'amenity': 'pub'}, (152.9472497, -31.0258606))\n",
      "(968687667, {'source': 'voice', 'amenity': 'pub'}, (150.8375214, -31.7670454))\n",
      "(993596301, {'amenity': 'pub'}, (140.7373664, -27.7468224))\n",
      "(986361740, {'amenity': 'pub'}, (172.7052491, -43.5571997))\n",
      "(1022710899, {'amenity': 'pub'}, (167.9268411, -44.6723334))\n",
      "(1018995020, {'amenity': 'pub'}, (172.6665645, -43.3284642))\n",
      "(1047224300, {'amenity': 'pub'}, (145.7278722, -40.9892853))\n",
      "(1014169186, {'amenity': 'pub'}, (172.6654299, -43.323355))\n",
      "(1093166382, {'amenity': 'pub'}, (140.7197736, -37.9286365))\n",
      "(1229994607, {'amenity': 'pub'}, (145.0391899, -38.2200283))\n",
      "(1232242784, {'amenity': 'pub'}, (151.583007, -28.0114302))\n",
      "(1260349004, {'amenity': 'pub'}, (175.259732, -38.8841887))\n",
      "(1252088732, {'amenity': 'pub'}, (145.0422536, -37.7695751))\n",
      "(1269970241, {'amenity': 'pub'}, (151.185909, -33.8141584))\n",
      "(1293929769, {'amenity': 'pub'}, (151.9587938, -27.5278992))\n",
      "(1283982276, {'amenity': 'pub'}, (143.2260071, -36.0752697))\n",
      "(1284241602, {'amenity': 'pub'}, (151.946197, -27.5452143))\n",
      "(1284241713, {'amenity': 'pub'}, (151.9502472, -27.5511025))\n",
      "(1270756471, {'amenity': 'pub'}, (149.1015856, -33.2842555))\n",
      "(1270778974, {'amenity': 'pub'}, (148.239109, -32.232215))\n",
      "(1241982981, {'amenity': 'pub'}, (144.156209, -37.3412544))\n",
      "(1300526069, {'amenity': 'pub'}, (151.9508203, -27.5551374))\n",
      "(1300526076, {'amenity': 'pub'}, (151.9554496, -27.5474278))\n",
      "(1319773754, {'amenity': 'pub'}, (170.50617, -45.8721071))\n",
      "(1319911970, {'amenity': 'pub'}, (152.8010033, -27.5726437))\n",
      "(1337853321, {'amenity': 'pub'}, (149.9737703, -24.5663813))\n",
      "(1339617373, {'amenity': 'pub'}, (136.8947797, -30.561844))\n",
      "(1339617441, {'amenity': 'pub'}, (136.8984168, -30.5622551))\n",
      "(1356192227, {'amenity': 'pub'}, (143.1726061, -37.3665319))\n",
      "(1402006622, {'amenity': 'pub'}, (125.5816097, -18.2106507))\n",
      "(1415728903, {'amenity': 'pub'}, (145.1146227, -37.5157503))\n",
      "(1415728904, {'amenity': 'pub'}, (145.1194828, -37.5113378))\n",
      "(1481002962, {'amenity': 'pub'}, (150.7700238, -33.7693379))\n",
      "(1481002964, {'amenity': 'pub'}, (150.8212328, -33.7681024))\n",
      "(1454559826, {'amenity': 'pub'}, (138.8564017, -35.0680719))\n",
      "(1454567963, {'amenity': 'pub'}, (138.8590713, -35.0671806))\n",
      "(1584284612, {'amenity': 'pub'}, (115.9322725, -31.9384252))\n",
      "(1614890235, {'amenity': 'pub'}, (148.8405304, -20.2619454))\n",
      "(1594018632, {'amenity': 'pub'}, (143.857822, -37.5598882))\n",
      "(1686458641, {'amenity': 'pub'}, (153.0277977, -27.5310926))\n",
      "(1694323297, {'amenity': 'pub'}, (172.72454, -43.1526328))\n",
      "(1723537353, {'amenity': 'pub'}, (115.828727, -31.8968794))\n",
      "(1749593153, {'amenity': 'pub'}, (144.9914466, -37.880703))\n",
      "(1724319425, {'amenity': 'pub'}, (115.8427854, -31.9008067))\n",
      "(1724353171, {'amenity': 'pub'}, (174.7966726, -36.8319262))\n",
      "(1707671002, {'amenity': 'pub'}, (151.6224812, -32.9645632))\n",
      "(1749142255, {'amenity': 'pub'}, (151.838957, -26.5416149))\n",
      "(1768641523, {'amenity': 'pub'}, (145.0279775, -37.8660412))\n",
      "(1785687840, {'amenity': 'pub'}, (152.90552, -27.6064717))\n",
      "(1791673360, {'source': 'voice', 'amenity': 'pub'}, (146.4100403, -38.2389457))\n",
      "(1713640180, {'layer': '2', 'amenity': 'pub'}, (151.6981133, -32.8878415))\n",
      "(1789876866, {'amenity': 'pub'}, (146.4055659, -37.9558917))\n",
      "(1818496301, {'amenity': 'pub'}, (147.7390072, -37.816016))\n",
      "(1811185968, {'amenity': 'pub'}, (138.0646081, -29.6484365))\n",
      "(1834805298, {'amenity': 'pub'}, (150.6084023, -33.6705538))\n",
      "(1847625222, {'amenity': 'pub'}, (145.3343969, -38.5215387))\n",
      "(1862255556, {'amenity': 'pub'}, (117.8632613, -35.001722))\n",
      "(1870196234, {'amenity': 'pub'}, (175.2834855, -40.6243586))\n",
      "(1869712504, {'amenity': 'pub'}, (144.7181618, -38.1707476))\n",
      "(1880047752, {'amenity': 'pub'}, (117.8861359, -35.0271211))\n",
      "(1882331679, {'amenity': 'pub'}, (144.5990975, -25.9095348))\n",
      "(1858244730, {'amenity': 'pub'}, (151.200279, -33.8923588))\n",
      "(1901320129, {'amenity': 'pub'}, (152.8559297, -26.3662769))\n",
      "(1859676337, {'amenity': 'pub'}, (138.8546337, -34.7800157))\n",
      "(1871983923, {'amenity': 'pub'}, (117.8832686, -35.0268773))\n",
      "(1921031173, {'amenity': 'pub'}, (147.1383869, -41.4423463))\n",
      "(1918201040, {'amenity': 'pub'}, (146.0017536, -37.8946585))\n",
      "(1926766891, {'amenity': 'pub'}, (144.5999862, -20.8708996))\n",
      "(1908152817, {'source': 'Bing', 'amenity': 'pub'}, (149.1869477, -21.1411499))\n",
      "(1933262795, {'amenity': 'pub'}, (147.13993, -41.4347315))\n",
      "(1959868541, {'amenity': 'pub'}, (175.2167554, -40.7151136))\n",
      "(2001952956, {'amenity': 'pub'}, (131.1279735, -15.6164729))\n",
      "(2029436186, {'amenity': 'pub'}, (152.9528434, -27.0828948))\n",
      "(2101661610, {'amenity': 'pub'}, (115.7551982, -32.3668115))\n",
      "(2094711978, {'amenity': 'pub'}, (146.9187929, -34.7681568))\n",
      "(2093261950, {'amenity': 'pub'}, (145.9945619, -34.5749943))\n",
      "(2139757234, {'source': 'survey', 'amenity': 'pub'}, (151.0333151, -33.9525508))\n",
      "(2142450531, {'amenity': 'pub'}, (146.7953204, -19.2921757))\n",
      "(2179081147, {'amenity': 'pub'}, (146.1734153, -41.157754))\n",
      "(2175049135, {'amenity': 'pub'}, (151.2302183, -33.8279601))\n",
      "(2174686982, {'amenity': 'pub'}, (150.8702267, -33.7621533))\n",
      "(2250327025, {'amenity': 'pub', 'wheelchair': 'no'}, (138.7962489, -35.1038678))\n",
      "(2283684470, {'amenity': 'pub'}, (146.3235787, -41.3819878))\n",
      "(2305923585, {'amenity': 'pub'}, (148.0240903, -34.6390575))\n",
      "(2305923745, {'amenity': 'pub'}, (148.0239805, -34.6383699))\n",
      "(2312198009, {'amenity': 'pub'}, (147.5850937, -34.8699208))\n",
      "(2305819653, {'amenity': 'pub'}, (148.6345198, -34.6702278))\n",
      "(2314097392, {'amenity': 'pub'}, (146.9005403, -35.767114))\n",
      "(2354302610, {'amenity': 'pub'}, (145.5299655, -37.7791562))\n",
      "(2356964611, {'amenity': 'pub'}, (143.9806267, -37.4631232))\n",
      "(2393623110, {'amenity': 'pub'}, (146.1715736, -41.1574892))\n",
      "(2428758445, {'amenity': 'pub'}, (120.1261565, -33.9510013))\n",
      "(2471747118, {'amenity': 'pub'}, (171.2133375, -42.4480597))\n",
      "(2504572401, {'amenity': 'pub'}, (144.4973295, -37.965062))\n",
      "(2531784099, {'amenity': 'pub'}, (142.2437927, -18.2022965))\n",
      "(2518371211, {'amenity': 'pub'}, (144.3832816, -37.188805))\n",
      "(2535983652, {'amenity': 'pub'}, (145.2665865, -38.034499))\n",
      "(2554351893, {'amenity': 'pub'}, (138.5951182, -34.9286422))\n",
      "(2554544673, {'amenity': 'pub'}, (170.8969561, -42.7904098))\n",
      "(2554544678, {'amenity': 'pub'}, (170.6715509, -43.010198))\n",
      "(2542417869, {'amenity': 'pub'}, (148.7300809, -20.28069))\n",
      "(2575779774, {'amenity': 'pub'}, (145.3731257, -16.4591069))\n",
      "(2632003073, {'amenity': 'pub'}, (144.9172318, -37.7555559))\n",
      "(2648566567, {'amenity': 'pub'}, (174.6960936, -36.7244183))\n",
      "(2590891252, {'source': 'survey', 'amenity': 'pub'}, (147.9034051, -35.0540075))\n",
      "(2590959125, {'source': 'survey', 'amenity': 'pub'}, (148.3808461, -35.9359769))\n",
      "(2649457708, {'source': 'bink + knowledge', 'amenity': 'pub'}, (151.1275992, -31.4608977))\n",
      "(2708673657, {'amenity': 'pub'}, (144.750425, -36.1306004))\n",
      "(2700926515, {'amenity': 'pub'}, (150.5374376, -23.3485896))\n",
      "(2594883792, {'amenity': 'pub'}, (151.0802309, -33.9715603))\n",
      "(2705143758, {'amenity': 'pub'}, (150.5194617, -23.3345235))\n",
      "(2746955853, {'amenity': 'pub'}, (127.0199833, -31.8993935))\n",
      "(2787779266, {'source': 'voice', 'amenity': 'pub'}, (149.1146124, -33.2939899))\n",
      "(2806042660, {'operator': 'RSL', 'amenity': 'pub'}, (151.640078, -33.0868592))\n",
      "(2828345503, {'amenity': 'pub'}, (148.3615463, -21.906463))\n",
      "(2864755926, {'amenity': 'pub'}, (146.4375073, -38.6653847))\n",
      "(2881259650, {'source': 'survey', 'amenity': 'pub', 'wheelchair': 'yes', 'toilets:wheelchair': 'yes', 'source:location': 'extrapolation'}, (150.8187718, -34.7462552))\n",
      "(2999805553, {'amenity': 'pub'}, (151.747697, -32.9210066))\n",
      "(3047641952, {'amenity': 'pub'}, (151.2533926, -33.9003316))\n",
      "(3048690449, {'amenity': 'pub'}, (147.0795137, -37.9670135))\n",
      "(3008464501, {'amenity': 'pub'}, (151.1993605, -33.8965476))\n",
      "(3077636825, {'amenity': 'pub'}, (149.2466314, -21.6089124))\n",
      "(3064937612, {'amenity': 'pub'}, (150.5713458, -34.2039611))\n",
      "(3113739054, {'amenity': 'pub'}, (137.820092, -33.8164507))\n",
      "(3049844769, {'amenity': 'pub'}, (170.3595301, -43.2617946))\n",
      "(3127019493, {'amenity': 'pub'}, (145.1246727, -40.8418081))\n",
      "(3155468980, {'amenity': 'pub'}, (147.3749557, -42.2983786))\n",
      "(3235062252, {'amenity': 'pub'}, (145.1149646, -38.0509512))\n",
      "(3248644731, {'amenity': 'pub'}, (152.6900993, -25.5417613))\n",
      "(3248644738, {'amenity': 'pub'}, (152.6856495, -25.5458149))\n",
      "(3268791849, {'amenity': 'pub'}, (152.5533712, -25.0925811))\n",
      "(3324644961, {'amenity': 'pub'}, (174.9516374, -40.9881292))\n",
      "(3313878639, {'note': 'lawn bowls club', 'source': 'survey', 'amenity': 'pub'}, (152.0705057, -32.7103293))\n",
      "(3359308408, {'amenity': 'pub'}, (153.2174043, -27.4923034))\n",
      "(3406569784, {'amenity': 'pub'}, (146.856341, -29.9605405))\n",
      "(3408496683, {'source': 'survey', 'amenity': 'pub'}, (146.8553173, -29.9600587))\n",
      "(3728590137, {'amenity': 'pub'}, (138.8087923, -35.0279704))\n",
      "(3843404434, {'amenity': 'pub', 'is_in': 'Australia, NSW, New South Wales, Port Macquarie'}, (152.8858963, -31.4293441))\n",
      "(3844303666, {'amenity': 'pub'}, (149.8095037, -36.8334529))\n",
      "(3840638142, {'amenity': 'pub'}, (149.324531, -33.8193409))\n",
      "(3966658203, {'amenity': 'pub'}, (118.1489303, -33.5413618))\n",
      "(4041116945, {'amenity': 'pub'}, (145.1545025, -36.7845016))\n",
      "(4127929242, {'amenity': 'pub'}, (152.8690199, -27.600687))\n",
      "(4196592223, {'source': 'survey', 'amenity': 'pub'}, (148.6196988, -31.9493549))\n",
      "(4229665289, {'amenity': 'pub'}, (151.2064905, -33.8983858))\n",
      "(4230081842, {'amenity': 'pub'}, (150.0326528, -33.4830648))\n",
      "(4342274290, {'amenity': 'pub'}, (144.7875349, 13.4892751))\n",
      "(4407999954, {'amenity': 'pub'}, (148.1896591, -32.7230462))\n",
      "(4535621390, {'amenity': 'pub'}, (119.0249604, -33.0941728))\n",
      "(4564536295, {'amenity': 'pub'}, (165.6376128, -21.6505194))\n",
      "(4690086885, {'amenity': 'pub'}, (117.6720231, -23.2036652))\n",
      "(4737815301, {'amenity': 'pub'}, (146.8672304, -19.1491917))\n",
      "(4737298523, {'amenity': 'pub', 'internet_access': 'wlan'}, (135.4619636, -33.0480669))\n",
      "(4839328388, {'amenity': 'pub'}, (168.3850874, -44.8499048))\n",
      "(4919932563, {'amenity': 'pub'}, (138.7301462, -34.8211848))\n",
      "(4971986694, {'amenity': 'pub'}, (152.8410891, -31.0804308))\n",
      "(4926386967, {'amenity': 'pub'}, (148.8211253, -28.3543577))\n",
      "(4990119479, {'amenity': 'pub'}, (151.3892917, -32.6782601))\n",
      "(5053067947, {'amenity': 'pub'}, (174.3192937, -35.7250109))\n",
      "(5225702748, {'amenity': 'pub'}, (138.5753816, -34.8962982))\n",
      "(5238979038, {'amenity': 'pub'}, (171.2006075, -42.4601312))\n",
      "(5251355932, {'amenity': 'pub'}, (168.1282491, -46.8980458))\n",
      "(5367728603, {'amenity': 'pub'}, (149.101662, -33.2492358))\n",
      "(5404669456, {'opening_hours': 'Mo-Su 10:00-02:00', 'amenity': 'pub'}, (152.995584, -27.9877184))\n",
      "(5456605104, {'amenity': 'pub'}, (151.1666205, -28.8544398))\n",
      "(5744458894, {'amenity': 'pub'}, (123.2008251, -31.8377696))\n",
      "(5767385461, {'amenity': 'pub'}, (144.8998171, -35.8130711))\n",
      "(5767385470, {'amenity': 'pub'}, (144.9006656, -35.8142432))\n"
     ]
    }
   ],
   "source": [
    "names = []\n",
    "for line in tmp:\n",
    "    ids, info, cords = line\n",
    "    try:\n",
    "        try:\n",
    "            names.append(info['name'])\n",
    "        except KeyError:\n",
    "            names.append(info['name:en'])\n",
    "    except KeyError:\n",
    "        print(line)"
   ]
  },
  {
   "cell_type": "code",
   "execution_count": 88,
   "metadata": {
    "collapsed": false
   },
   "outputs": [
    {
     "data": {
      "text/plain": [
       "3066"
      ]
     },
     "execution_count": 88,
     "metadata": {},
     "output_type": "execute_result"
    }
   ],
   "source": [
    "len(names)"
   ]
  },
  {
   "cell_type": "code",
   "execution_count": 95,
   "metadata": {
    "collapsed": false
   },
   "outputs": [
    {
     "name": "stdout",
     "output_type": "stream",
     "text": [
      "Counter({'apple': 3, 'egg': 2, 'banana': 1, 'dog': 1})\n"
     ]
    }
   ],
   "source": [
    "from collections import Counter\n",
    "list1=['apple dog','egg','apple','banana','egg','apple']\n",
    "words = []\n",
    "for n in list1:\n",
    "    for f in n.split(' '):\n",
    "        words.append(f)\n",
    "counts = Counter(words)\n",
    "print(counts)\n",
    "# Counter({'apple': 3, 'egg': 2, 'banana': 1})"
   ]
  },
  {
   "cell_type": "code",
   "execution_count": 97,
   "metadata": {
    "collapsed": false
   },
   "outputs": [],
   "source": [
    "words = []\n",
    "for n in names:\n",
    "    for bit in n.split(' '):\n",
    "        words.append(bit)"
   ]
  },
  {
   "cell_type": "code",
   "execution_count": 98,
   "metadata": {
    "collapsed": false
   },
   "outputs": [
    {
     "name": "stdout",
     "output_type": "stream",
     "text": [
      "Counter({'Hotel': 1607, 'The': 373, 'Tavern': 291, 'Club': 157, 'Bar': 128, 'Inn': 110, 'Royal': 90, 'Pub': 89, '&': 64, 'Motel': 63, 'Commercial': 61, 'and': 53, 'Arms': 40, 'RSL': 40, 'House': 31, 'Railway': 30, 'Park': 29, 'of': 27, 'Brewery': 26, 'Grand': 26, 'Victoria': 26, 'Cafe': 23, 'Old': 22, 'Irish': 22, 'Beach': 22, 'Sports': 21, 'Bowling': 20, 'Creek': 19, 'Imperial': 19, 'Crown': 18, 'Hill': 17, 'River': 17, 'Central': 17, 'Prince': 16, 'Beer': 16, 'Castle': 16, 'Union': 16, 'Star': 15, 'Bay': 15, 'Family': 14, 'Australian': 14, 'Mount': 13, 'on': 13, 'Golden': 12, 'Brewing': 12, 'Bridge': 12, 'Village': 12, 'Junction': 12, 'Bistro': 12, 'St': 11, 'View': 11, 'Oak': 11, 'Oxford': 11, 'Town': 11, 'Exchange': 11, 'North': 11, 'Tattersalls': 10, 'Empire': 10, 'Valley': 10, 'West': 10, 'Country': 10, 'Ocean': 9, 'Ale': 9, 'George': 9, 'Duke': 9, 'Federal': 9, 'Hall': 9, 'Pig': 9, 'Criterion': 9, 'Great': 9, 'Station': 9, 'Dog': 9, 'Green': 9, 'Courthouse': 9, 'Bull': 9, 'Western': 8, 'Wales': 8, 'Lord': 8, 'Head': 8, 'Whistle': 8, 'Corner': 8, 'New': 8, 'Albion': 8, 'Pioneer': 8, 'Golf': 8, 'Lake': 8, 'South': 8, 'Retreat': 7, 'Blue': 7, 'Edinburgh': 7, 'Grill': 7, 'Red': 7, 'Mail': 7, 'Street': 7, \"Murphy's\": 7, 'Rose': 7, 'hotel': 7, 'Brothers': 7, 'Little': 7, 'Brewhouse': 7, 'Shamrock': 7, 'Grove': 7, 'Diggers': 7, 'Windsor': 6, 'Leagues': 6, 'Sydney': 6, 'Telegraph': 6, 'Hotel-Motel': 6, 'Bush': 6, 'Restaurant': 6, 'Melbourne': 6, 'Black': 6, 'Post': 6, 'Newmarket': 6, 'Globe': 6, 'Lakes': 6, 'Road': 6, 'City': 6, 'Office': 6, 'Northern': 6, 'Public': 6, 'White': 6, 'Kitchen': 6, 'Co': 5, 'Hotel/Motel': 5, u'Home': 5, 'Three': 5, 'Albert': 5, 'Historic': 5, 'District': 5, 'Water': 5, 'Memorial': 5, 'Place': 5, 'the': 5, 'Metropolitan': 5, 'Island': 5, 'Alfred': 5, 'Workers': 5, 'Clare': 5, 'End': 5, 'Recreation': 5, '-': 5, 'Lion': 5, 'Palace': 5, 'Kings': 5, 'Waterfront': 5, 'Sporting': 5, 'Local': 5, 'Eastern': 5, 'Vale': 5, 'Duck': 5, 'Dock': 5, 'Good': 5, 'Anchor': 5, 'Saloon': 5, 'Sands': 4, 'Swan': 4, 'Hills': 4, 'Brew': 4, 'William': 4, 'Bank': 4, 'Tree': 4, 'in': 4, 'Room': 4, 'Elephant': 4, 'Heritage': 4, 'Pacific': 4, 'Gladstone': 4, 'Mill': 4, 'Belgian': 4, 'Macquarie': 4, 'Gardens': 4, 'Farmers': 4, 'Pier': 4, 'East': 4, 'Settlers': 4, 'Top': 4, 'Lucky': 4, 'Richmond': 4, 'Alehouse': 4, 'Brunswick': 4, \"O'Reilly's\": 4, 'Roadhouse': 4, 'Belmore': 4, 'El': 4, 'Thirsty': 4, 'Fox': 4, 'King': 4, 'Of': 4, 'Rising': 4, 'Speights': 4, 'Brisbane': 4, 'Cricketers': 4, 'Mountain': 4, 'Illawarra': 4, 'British': 4, 'Oasis': 4, 'Kawhia': 4, 'Caledonian': 4, 'Broadway': 4, 'Garden': 4, 'Company': 4, 'Sun': 4, 'Bowls': 4, 'Wheatsheaf': 4, 'Coach': 4, 'Heights': 3, 'Cleveland': 3, 'Downs': 3, 'Flinders': 3, 'National': 3, 'Desert': 3, 'tavern': 3, 'Plough': 3, 'Ridge': 3, 'bar': 3, 'Glen': 3, 'John': 3, 'Horses': 3, 'Glenelg': 3, 'Portland': 3, 'Gap': 3, 'Life': 3, 'Homestead': 3, 'Sir': 3, 'Tourist': 3, 'Seabreeze': 3, 'Standard': 3, 'Warilla': 3, 'Mt': 3, 'club': 3, 'Resort': 3, 'Brewers': 3, 'Eureka': 3, 'Stanley': 3, 'Wheelbarrow': 3, 'Seven': 3, 'Jockey': 3, 'Court': 3, 'Cherry': 3, 'Drop': 3, 'Anglers': 3, 'Colonial': 3, 'Services': 3, \"O'Malley's\": 3, 'Turf': 3, 'Surf': 3, 'Lawn': 3, 'Round': 3, 'Cumberland': 3, 'Hideaway': 3, 'Occidental': 3, 'London': 3, 'Nest': 3, 'Wallaroo': 3, 'Hop': 3, 'Darling': 3, 'Brown': 3, \"Kelly's\": 3, 'Stump': 3, 'Cronulla': 3, 'Horse': 3, 'Tatts': 3, 'Cook': 3, 'Uni': 3, 'Ivanhoe': 3, 'Rosebery': 3, 'Mendooran': 3, 'Harp': 3, 'Lounge': 3, 'CBD': 3, \"O'Brien's\": 3, 'Co.': 3, 'Camel': 3, 'Football': 3, 'Last': 3, 'Wharf': 3, 'Riverview': 3, 'Captain': 3, 'Fitzroy': 3, 'International': 3, 'Gin': 3, 'Doolan': 3, 'Hampden': 3, u'Bridie': 3, 'Grandview': 3, 'Hut': 3, 'Katherine': 3, 'Daly': 3, 'Esplanade': 3, 'Community': 3, 'Salisbury': 3, 'Oriental': 3, 'Queens': 3, 'Point': 3, 'York': 3, 'Marquis': 3, 'PJ': 3, 'Fleece': 3, 'Squire': 3, 'Mansfield': 3, 'Wellington': 3, 'Fat': 3, 'Paddington': 3, 'Two': 3, 'Five': 3, 'Rosedale': 3, 'Mornington': 3, 'Caringbah': 3, 'Gundagai': 2, 'Henry': 2, 'Alpine': 2, 'Bended': 2, 'Lodge': 2, 'Clarendon': 2, 'Shed': 2, 'Queen': 2, 'Doncaster': 2, 'Sheaf': 2, 'Brighton': 2, 'TAB': 2, 'Dingo': 2, 'Wangi': 2, 'Cheltenham': 2, 'estate': 2, 'Jack': 2, 'All': 2, 'Civic': 2, 'Brook': 2, 'Dapto': 2, 'Montague': 2, 'Emerald': 2, u'Caf\\xe9': 2, 'Woy': 2, 'Basement': 2, 'Warners': 2, 'Seaview': 2, 'Cambridge': 2, 'Dargo': 2, 'Victory': 2, 'Surrey': 2, 'Craic': 2, \"'n\": 2, 'Cardinia': 2, 'Crow': 2, 'Kingston': 2, 'Paradise': 2, 'Powell': 2, 'Bin': 2, 'de': 2, 'Wakefield': 2, 'Deck': 2, \"'n'\": 2, 'Hurstville': 2, 'Pinnacle': 2, \"Queen's\": 2, 'Wollongong': 2, 'Wolseley': 2, 'Waters': 2, 'Alexandra': 2, 'n': 2, 'Hood': 2, 'Nar': 2, u'Crossroads': 2, 'Normanby': 2, 'Bristol': 2, 'James': 2, 'Wine': 2, \"Gallagher's\": 2, 'Off': 2, \"O'Shea's\": 2, 'Claddagh': 2, 'Arcadia': 2, 'Nowa': 2, 'Dorrigo': 2, 'Rocks': 2, 'Lansdowne': 2, 'Leichhardt': 2, 'Andrew': 2, 'Charles': 2, 'Crescent': 2, 'Barraba': 2, 'Orient': 2, 'Eltham': 2, 'Peel': 2, 'Foreshore': 2, 'Cunnamulla': 2, 'Westside': 2, 'Spotted': 2, 'Tav': 2, 'Kurri': 2, 'Orange': 2, 'Age': 2, 'Fiddle': 2, 'Mr': 2, 'Rivers': 2, 'Sail': 2, 'Le': 2, 'Fountain': 2, 'Australia': 2, 'Tiger': 2, 'Newtown': 2, 'Fern': 2, 'Eatery': 2, 'Pyrmont': 2, 'Oaks': 2, 'Grace': 2, 'Norfolk': 2, 'Balmain': 2, 'Mile': 2, 'Keg': 2, 'Welcome': 2, 'Terminus': 2, 'Adelaide': 2, 'Jamieson': 2, 'Burra': 2, 'Settlement': 2, 'De': 2, 'Kent': 2, 'Gate': 2, 'Punt': 2, 'Healesville': 2, 'Manilla': 2, 'Millaa': 2, '66': 2, 'Cremorne': 2, 'Sorrento': 2, 'Sportsman': 2, 'Harrigans': 2, 'Raffles': 2, 'Iron': 2, 'Coopers': 2, 'Port': 2, 'Playhouse': 2, 'Crossways': 2, 'Pine': 2, 'Aussie': 2, 'Mona': 2, 'Camp': 2, 'Headquarters': 2, 'Bakers': 2, 'Tall': 2, 'Mary': 2, 'Four': 2, 'Customs': 2, 'Burwood': 2, 'Ruby': 2, 'Leonards': 2, 'Rock': 2, 'Leigh': 2, 'Heads': 2, 'Pastoral': 2, 'Warrego': 2, 'J': 2, 'Gem': 2, 'Thistle': 2, 'at': 2, 'Lady': 2, 'Cellars': 2, 'Pickle': 2, 'Moon': 2, 'Fin': 2, 'Cricket': 2, 'Breakfast': 2, 'Sundowner': 2, 'Wallangarra': 2, 'Lilydale': 2, 'Peak': 2, 'Manly': 2, 'Donnybrook': 2, 'Paterson': 2, 'Elbow': 2, 'Marlborough': 2, 'Tap': 2, 'Saving': 2, 'Fiddler': 2, 'Raglan': 2, 'Matakana': 2, 'pub': 2, 'P.J.': 2, 'Cheers': 2, \"Cooper's\": 2, 'Talbot': 2, 'Gol': 2, 'Austral': 2, 'Travellers': 2, 'Vineyard': 2, 'Oxley': 2, 'Fish': 2, 'Lautoka': 2, 'Hart': 2, 'Harlequin': 2, 'Greenwood': 2, 'Market': 2, 'Taverna': 2, 'Cow': 2, 'Crossing': 2, 'Albany': 2, 'Goodna': 2, 'Marina': 2, 'Landmark': 2, 'Lalor': 2, 'O': 2, 'Pannawonica': 2, 'Young': 2, 'Ettamogah': 2, 'Bayview': 2, 'Jolly': 2, 'Bell': 2, 'Salty': 2, 'Menzies': 2, 'Petersham': 2, 'Manning': 2, 'Orchard': 2, 'Roundabout': 2, 'Reef': 2, 'Commonwealth': 2, 'Lorne': 2, 'Motor': 2, 'Hum': 2, 'Astor': 2, 'Lang': 2, 'Lane': 2, 'Dandenong': 2, 'Binnaway': 2, 'Rosie': 2, 'Noble': 2, 'Stirling': 2, 'Tuggeranong': 2, 'Coolah': 2, 'Middle': 2, 'Dudley': 2, 'Bird': 2, 'Boathouse': 2, 'Social': 2, 'Robin': 2, 'Dickens': 2, 'Stags': 2, 'Sussex': 2, 'Tradies': 2, 'Cooma': 2, 'Ives': 2, 'Buffalo': 2, 'Wattle': 2, 'Hyde': 2, 'Aces': 2, 'Farm': 2, 'Malones': 2, 'Somerset': 2, 'Caves': 2, 'Bellbird': 2, 'Pilliga': 2, 'Pot': 2, 'Craft': 2, 'Yard': 2, 'Halfway': 2, 'Porterhouse': 2, 'Woolpack': 2, 'Cove': 2, 'Boundary': 2, 'Temple': 2, 'Bingara': 2, 'Jug': 2, 'R.S.L.': 2, \"Speight's\": 2, 'Clubrooms': 2, 'Strathmore': 2, 'General': 2, 'Hope': 2, 'Grey': 2, 'Mitchell': 2, 'Tarven': 2, 'Delegate': 2, 'Deluxe': 2, 'Nags': 2, 'Durham': 2, 'Forest': 2, 'Strand': 2, 'Taphouse': 2, \"Mac's\": 2, 'Wallace': 2, 'Kilda': 2, \"Paddy's\": 2, 'Ball': 2, 'Bald': 2, 'Brewpub': 2, 'Chelsea': 2, 'Wenty': 2, 'Broadford': 2, 'Bearded': 2, 'Batlow': 2, 'Sportsbar': 2, '': 1, \"Freemason's\": 1, u\"L'impr\\xe9vu\": 1, 'Kensington': 1, 'Hivesville': 1, 'Leap': 1, 'Rutland': 1, 'Bailey': 1, \"Tree's\": 1, 'Livingstone': 1, 'Inala': 1, 'Cranbourne': 1, 'Watch': 1, 'Ranges': 1, 'Slum': 1, 'Slug': 1, 'Dromedary': 1, 'League': 1, 'GT': 1, 'Waterloo': 1, 'Goondi': 1, 'McSwiggans': 1, 'Bankstown': 1, 'Wunghnu': 1, 'Kabra': 1, 'Sugar': 1, 'Tasmania': 1, 'Spurs': 1, 'Stones': 1, 'Provedor': 1, 'Thomas': 1, 'Scruffy': 1, 'Premier': 1, 'Garah': 1, 'Athletic': 1, 'Stoned': 1, 'Frisco': 1, 'Longa': 1, 'Aldinga': 1, 'Mamre': 1, 'Ballina': 1, 'Rosstown': 1, 'Culture': 1, 'Tingalpa': 1, 'Ballandean': 1, 'Hamilton': 1, 'Uralla': 1, '(Located': 1, 'Faced': 1, 'Yambuk': 1, 'Neville': 1, 'Tingora': 1, 'Scarsdale': 1, 'Wanderers': 1, 'Trentham': 1, \"Hamer's\": 1, \"Gannon's\": 1, 'Norlane': 1, 'Pines': 1, 'Feathers': 1, 'Lettuce': 1, 'Fiddlers': 1, 'Isles': 1, 'Kok': 1, 'Koo': 1, 'Jennings': 1, 'Alberton': 1, '\"The': 1, 'Puketapu': 1, 'Axedale': 1, \"Tipley's\": 1, 'Stag': 1, 'Tumut': 1, 'Compass': 1, 'Gardners': 1, 'Tudor': 1, 'Locos': 1, 'Amaroo': 1, 'Cowwarr': 1, 'Rams': 1, 'Quinninup': 1, 'Parilla': 1, 'Peach&': 1, 'Overlander': 1, 'Fraser': 1, 'Crows': 1, 'Luna': 1, 'Rogans': 1, 'Chermside': 1, \"O'Gradys\": 1, 'Bunyip': 1, 'Maidenwell': 1, 'Bruny': 1, 'La': 1, 'Coorparoo': 1, 'Echunga': 1, 'Jondaryan': 1, 'Loxton': 1, 'Eagle': 1, 'Moose': 1, 'Lloyds': 1, 'Kai': 1, 'Dunter': 1, 'Darlo': 1, 'Falcon': 1, 'Tyson': 1, \"Whelan's\": 1, 'Goolwa': 1, 'Players': 1, 'Prickly': 1, 'Waikare': 1, 'Slimms': 1, 'Wild': 1, \"O'Sullivan's\": 1, \"Ploughman's\": 1, 'Duaringa': 1, 'Bischoff': 1, 'Xona': 1, 'Toogoolawah': 1, 'Braybrook': 1, 'Cattle': 1, 'Seanchai': 1, 'Trust': 1, 'Kenilworth': 1, 'office': 1, 'Harrietville': 1, \"O'Donoghues\": 1, 'Panmure': 1, 'Kooringal': 1, 'Roadside': 1, 'Balingup': 1, 'Helensburgh': 1, 'Shenannigans': 1, 'Frankies': 1, 'Yebisu': 1, 'Harvgreaves': 1, 'Killarney': 1, 'Judge': 1, 'Exeter': 1, 'closed)': 1, 'Costellos': 1, 'Beerland': 1, 'Lifeboat': 1, 'Historian': 1, 'Mosgiel': 1, 'Queanbeyan': 1, 'Candelo': 1, 'Bellingen': 1, 'Arrow': 1, 'Woodbourne': 1, 'sportsbars': 1, 'Hats': 1, 'Goose': 1, 'Woolloware': 1, 'Curious': 1, 'Campsie': 1, 'Ingleburn': 1, 'Rainbow': 1, 'Silverton': 1, 'Sunnyside': 1, 'Canary': 1, 'Doulton': 1, 'Jamestown': 1, \"Rafferty's\": 1, 'Mapleton': 1, 'Juice': 1, 'Rabbit': 1, '\"n\"': 1, 'Angling': 1, 'Kallangur': 1, 'Gippsland': 1, 'Scary': 1, '24)': 1, 'Coonabarabran': 1, 'Playhhouse': 1, 'Gambier': 1, 'Roof': 1, 'UBET': 1, 'Panton': 1, 'Nixon': 1, 'Mickey': 1, 'Lindenow': 1, 'Meadowbrook': 1, 'Chan': 1, \"Lefty's\": 1, 'Brecknock': 1, \"Monte's\": 1, 'Cooper': 1, 'Working': 1, 'Sovereign': 1, 'Whitehorse': 1, 'Geebung': 1, 'Waterford': 1, 'Halls': 1, 'Steelers': 1, 'Johns': 1, 'BBarossa': 1, 'Alexander': 1, \"Parer's\": 1, 'Esperance': 1, 'Flowerdale': 1, 'Dunalley': 1, 'Corroboree': 1, 'Edge': 1, 'Allawah': 1, 'Charleston': 1, 'Kyneton': 1, 'BBQ': 1, 'Canberra': 1, 'Croydon': 1, 'Saltwater': 1, 'Galaxy': 1, 'Tassie': 1, 'Longyard': 1, 'Alroy': 1, 'Rakinos': 1, 'Neck': 1, 'Britannia': 1, 'Lincolnshire': 1, 'Riversdale': 1, 'Matua': 1, 'Tramway': 1, 'Unicorn': 1, 'Lynn': 1, 'Wise': 1, 'Parafield': 1, 'Beehive': 1, 'Frederics': 1, 'Hilltop': 1, 'Side': 1, 'Sanctuary': 1, 'Lakeside': 1, 'Vauxhall': 1, 'Tenterfield': 1, 'Hillcrest': 1, 'QF': 1, 'Mark': 1, 'Kauwhata': 1, '+': 1, 'Carriers': 1, 'Finnegans': 1, 'Cortez': 1, 'Moonyne': 1, 'Whitsunday': 1, 'Samson': 1, 'Anne': 1, 'Frankton': 1, 'European': 1, 'Inverleigh': 1, 'Mercantile': 1, 'Parkhurst': 1, 'Coolangatta': 1, 'Big': 1, 'Foodtrap': 1, 'Free': 1, 'Englishmen': 1, 'Coleraine': 1, 'Maroochydore': 1, \"Omar's\": 1, 'Tinamba': 1, 'Quarter': 1, 'Gloucester': 1, 'Walloon': 1, 'Moore': 1, 'McMahon': 1, 'Washington': 1, 'Waihou': 1, 'bay': 1, 'Terang': 1, 'Clocks': 1, 'Cambrian': 1, 'Marys': 1, \"Cooley's\": 1, 'Kambah': 1, 'Risdon': 1, \"L'otel\": 1, 'Tingha': 1, 'GBT': 1, 'Foster': 1, 'Belly': 1, 'Walkabout': 1, 'Longhorn': 1, 'Dogs': 1, 'Scarlett': 1, 'Bells': 1, 'Ermington': 1, 'Avonhead': 1, 'Gift': 1, 'Rum': 1, 'BREWING': 1, 'Basalt': 1, 'Choice': 1, 'Toot': 1, 'Rup': 1, 'Marrawah': 1, 'Counter': 1, 'Wickham': 1, 'Capella': 1, \"Malone's\": 1, 'Wychitella': 1, \"Percy's\": 1, \"O'Reillys\": 1, 'Micawber': 1, 'Crafers': 1, 'Rosevale': 1, 'Coolabah': 1, 'Tennant': 1, 'Arthur': 1, 'Channon': 1, 'Burrum': 1, 'UBar': 1, 'Mallow': 1, 'Navy': 1, 'Boolarra': 1, 'Ye': 1, 'Aberdeen': 1, 'Carlisle': 1, 'Apartment': 1, 'Gellibrand': 1, '2nd': 1, 'Huon': 1, 'Karalee': 1, 'Yangan': 1, 'Jacaranda': 1, \"Smitty's\": 1, \"Dick's\": 1, 'Southern': 1, 'Haymarket': 1, 'Uranquinty': 1, 'Borthers': 1, 'Adams': 1, 'Saddle': 1, 'Clermont': 1, \"Brewer's\": 1, 'Flow': 1, \"Maginty's\": 1, 'CY': 1, 'Stuart': 1, 'Bites': 1, '162': 1, 'Pyalong': 1, 'Holmes': 1, 'Upper': 1, 'Paddys': 1, 'Centrale': 1, 'Maid': 1, 'Treetops': 1, 'Boyles': 1, 'Rockfall': 1, 'Sugarloaf': 1, 'Linville': 1, 'Delany': 1, 'Beckom': 1, 'Nag': 1, 'Opononi': 1, 'Flail': 1, 'Bimbo': 1, 'pub.': 1, \"Tinbilly's\": 1, 'Windaroo': 1, 'Bigmouth': 1, 'Kalimna': 1, 'Mena': 1, '1815': 1, 'Main': 1, 'Martinborough': 1, 'Tasmanian': 1, 'Eveleigh': 1, 'Liquors': 1, 'Tantanoola': 1, 'Kalamari': 1, \"Fitzi's\": 1, 'Worlds': 1, 'du': 1, 'Lyndhurst': 1, 'Bulloo': 1, \"Quinn's\": 1, 'Thornlie': 1, 'Erskineville': 1, 'Builders': 1, 'Brightview': 1, 'Peacock': 1, 'Taieri': 1, 'Northstar': 1, 'Eulo': 1, 'Mallard': 1, 'Coniston': 1, 'Terrey': 1, 'Lula': 1, 'Colyton': 1, 'Harrys': 1, 'Russell': 1, 'Bier': 1, 'Beerhouse': 1, \"Hogan's\": 1, 'Branch': 1, 'Quokka': 1, 'Happy': 1, 'Moretons': 1, 'Tallarook': 1, '(Closed)': 1, \"Wilson's\": 1, '(rebuilt)': 1, 'Molesworth': 1, 'Banora': 1, 'Euroa': 1, 'Roberts': 1, 'Cottesloe': 1, \"Riley's\": 1, '59': 1, 'Dr': 1, 'Kenmore': 1, 'Glenmore': 1, 'Yarrawonga': 1, 'Warren': 1, 'Dungowan': 1, 'Kununurra': 1, 'Goolma': 1, 'Broad': 1, 'HQ': 1, 'Jemmy': 1, 'Birralee': 1, 'Redwood': 1, 'Quarry': 1, 'Leg': 1, 'Leo': 1, 'Dava': 1, \"Maloney's\": 1, 'Burnside': 1, 'Marla': 1, 'Rodez': 1, 'Conargo': 1, 'Yacht': 1, u'O\\u2019Reilly\\u2019s': 1, 'Remo': 1, 'Vapiano': 1, 'First': 1, 'Baxter': 1, 'Madison': 1, 'Grassy': 1, 'Strawberry': 1, 'Bemboka': 1, 'Spinifex': 1, 'Arm': 1, 'Anglesea': 1, 'Taven': 1, 'Kaleen': 1, 'Still': 1, 'Birds': 1, 'Trap': 1, 'Boulevard': 1, 'Granya': 1, \"Ned's\": 1, 'Fairfield': 1, 'Beatty': 1, 'Crest': 1, 'Yung': 1, 'Flanagans': 1, 'Wongi': 1, 'Woden': 1, 'Hand': 1, 'Regency': 1, \"Ted's\": 1, 'Torquay': 1, 'Shaws': 1, 'Jindera': 1, 'Maryville': 1, 'leagues': 1, 'Left': 1, 'Pawn': 1, 'Greta': 1, 'Goldfields': 1, 'Koorawatha': 1, 'Keighery': 1, 'Brahaus': 1, 'Vista': 1, '152': 1, 'Brewski': 1, '159': 1, 'Dockyard': 1, \"Sportsman's\": 1, 'irsh': 1, 'Taylors': 1, 'Norton': 1, 'Highway': 1, 'Coburn': 1, 'MacGuires': 1, 'Handle': 1, 'no': 1, 'Track': 1, 'Minnipa': 1, 'McGuires': 1, 'Hunt': 1, 'Wilmington': 1, 'Drive': 1, 'Sprig': 1, 'Millers': 1, 'Wynyard': 1, 'Mash': 1, 'Belair': 1, 'Palms': 1, 'Estate': 1, 'Springwood': 1, 'Clifton': 1, 'Principal': 1, 'Runaway': 1, 'Craignish': 1, 'Daintree': 1, 'Nevertire': 1, 'Dundee': 1, 'Republic': 1, 'Mirboo': 1, 'Dam': 1, 'Monde': 1, 'Murphys': 1, 'Tathra': 1, 'Andergrove': 1, 'Milestone': 1, 'Day': 1, 'Wandi': 1, 'Keno': 1, 'Mangere': 1, 'Keppel': 1, 'Mundaring': 1, 'Ferry': 1, 'Barrel': 1, 'Coomera': 1, 'Rand': 1, \"G's\": 1, \"Heyward's\": 1, 'hibernian': 1, 'Pottsville': 1, 'Cubano': 1, 'Burleigh': 1, 'Rex': 1, 'Jerrys': 1, 'Avenel': 1, 'Jardine': 1, 'Belle)': 1, 'Fernvale': 1, 'Shakespeare': 1, 'Molloys,': 1, 'Windeyer': 1, 'Charcoal': 1, 'Theatre': 1, 'Denison': 1, 'Hindley': 1, 'Ferret': 1, 'Podges': 1, 'Bayswater': 1, 'Francis': 1, 'Mozzarella': 1, 'Elwick': 1, 'Mc': 1, 'Dunedoo': 1, 'Berry': 1, 'Kookaburra': 1, 'Burren': 1, 'Warner': 1, 'Wedderburn': 1, 'Boru': 1, 'Mallacoota': 1, 'Percy': 1, 'Belrose': 1, 'Brick': 1, 'Dulacca': 1, 'Bora': 1, 'love': 1, 'Bolac': 1, 'Abbey': 1, \"O'Sheas\": 1, 'Chats': 1, \"Grumpy's\": 1, 'Nabiac': 1, 'Malfroy': 1, 'by': 1, 'Varsity': 1, 'Peppercorn': 1, \"Blackburn's\": 1, 'Shaft': 1, 'Roxbury': 1, 'Clovelly': 1, 'Bed': 1, 'Hayes': 1, 'Stanthorpe': 1, 'Westbrook': 1, 'Kirwee': 1, 'Robinvale': 1, 'Kingaroy': 1, 'Brian': 1, 'German': 1, 'T42': 1, 'Greendale': 1, \"O'Gowrie\": 1, '(Logan': 1, 'Poochera': 1, 'Glub': 1, 'Archive': 1, 'Chelmsford': 1, 'Gertrude': 1, 'Carine': 1, 'Walbundrie': 1, 'Mid': 1, 'Queenscliffe': 1, 'Epping': 1, 'Forbes': 1, 'Carousel': 1, 'Sawmill': 1, 'Thoroughbred': 1, 'Cauliflower': 1, 'Munich': 1, 'Why': 1, 'Moliagul': 1, 'Starrs': 1, 'Tank': 1, 'Swinging': 1, 'Valern': 1, 'Lawson': 1, 'Whisky': 1, 'Cavalier': 1, 'Insignia': 1, 'Baden': 1, 'Radio': 1, 'Ship': 1, 'Mayfair': 1, 'Jar': 1, 'Pillars': 1, \"Hemingway's\": 1, 'Parap': 1, 'Bunker': 1, 'Dicks': 1, 'Allenstown': 1, 'Raid': 1, \"McMorrissey's\": 1, 'Docks': 1, 'Wesley': 1, 'Noggin': 1, 'Buncha': 1, 'World': 1, 'Avon': 1, 'Botanic': 1, 'Sofala': 1, \"Sweeney's\": 1, 'Meadows': 1, 'Gordon': 1, 'Harrington': 1, 'Kitchener': 1, 'Kentish': 1, 'Jundah': 1, 'Commerical': 1, 'Castlecliff': 1, \"Tanswell's\": 1, 'Lotts': 1, 'Heavitree': 1, 'Rathdowne': 1, 'Wheat': 1, 'Sauce': 1, 'Vulcan': 1, 'Joe': 1, 'Drums': 1, 'Kew': 1, 'Kinselas': 1, 'Dicey': 1, 'Stone': 1, 'Mumballup': 1, 'McCredie': 1, 'Yandaran': 1, 'Woolooga': 1, 'Marlin': 1, 'Cockatoo': 1, 'Poet': 1, 'Leuven': 1, 'Rocklea': 1, 'Portarlington': 1, 'Pedy': 1, 'Harbour': 1, 'Smiggins': 1, 'Erin': 1, 'Amberley': 1, 'Triple': 1, 'Yamanto': 1, 'Yalgoo': 1, u'O\\u2018Malley\\u2018s': 1, 'Tasting': 1, 'Yar': 1, 'Start': 1, 'Owen': 1, 'Hollywood': 1, 'Palmer': 1, 'Magpies': 1, '2': 1, \"Hudson's\": 1, 'Dove': 1, 'Bundy': 1, 'Havelock': 1, 'Fortune': 1, 'Scholar': 1, 'Litchfield': 1, 'Patrick': 1, 'Kermandie': 1, 'Ballimore': 1, 'Wilcannia': 1, 'Guyra': 1, 'Inc.': 1, \"MacCool's\": 1, 'Drovers': 1, 'Mosman': 1, 'Cableways': 1, 'Grafton': 1, 'Grange': 1, 'Field': 1, 'Walkers': 1, 'Calf': 1, \"Gilhooley's\": 1, 'Watermark': 1, 'Logan': 1, 'Famous': 1, 'Hale': 1, 'Barmah': 1, 'Half': 1, 'Yankalilla': 1, 'Beaches': 1, 'Wickliffe': 1, 'Rosewater': 1, 'Catlins': 1, 'Rugby': 1, 'Irvinebank': 1, 'Vault': 1, 'Brewhaus': 1, 'izakaya': 1, 'That': 1, 'Deloraine': 1, 'D4': 1, 'Ngatea': 1, 'Showmans': 1, 'Tooradin': 1, 'Ex-Services': 1, 'Wee': 1, 'Sky': 1, 'Quarrymans': 1, 'Aviary': 1, 'Blacksmith': 1, 'Ceduna': 1, 'Lowenbrau': 1, 'Chamberlain': 1, \"Billy's\": 1, \"Shipwright's\": 1, 'Bel-Aire': 1, 'Wy': 1, 'Marsden': 1, 'Waxy': 1, 'Bucca': 1, 'Largs': 1, 'Namoi': 1, 'Hiberian': 1, 'Lantern': 1, 'Laird': 1, 'Right': 1, 'Taroom': 1, 'Bemagui': 1, 'Merrygoen': 1, 'Asquith': 1, 'Reefton': 1, 'Kinross': 1, 'Allen': 1, 'Papatoetoe': 1, 'Preston': 1, 'Macarthur': 1, 'Bombala': 1, 'Backbencher': 1, 'Fays': 1, 'Pukenui': 1, 'Larrimah': 1, 'Herdsman': 1, 'Darnum': 1, 'Tallangatta': 1, 'Quay': 1, 'Hebel': 1, 'Bellarine': 1, 'Miners': 1, '3': 1, 'Elmhurst': 1, 'McCuhals': 1, 'Scenic': 1, 'Bangalore': 1, \"l'Olympique\": 1, 'Club/Temporary': 1, 'Brooklands': 1, 'Pavilion': 1, 'Stansbury': 1, 'Ferntree': 1, 'Jamberoo': 1, 'Mahones': 1, 'Yarraman': 1, 'Murrayville': 1, 'Mintabie': 1, 'Gayndah': 1, 'Meeniyan': 1, 'Clocktower': 1, 'Rollingstone': 1, 'Langwarrin': 1, 'Kevington': 1, 'Nebo': 1, 'Sip': 1, 'Bavarian': 1, 'Riverside': 1, 'Longueville': 1, 'Horton': 1, 'Noth': 1, 'Karara': 1, 'Cobden': 1, \"O'Mara's\": 1, 'Degree': 1, 'Kempton': 1, 'Rydales': 1, 'Bun': 1, 'Roxburgh': 1, 'Dispensery': 1, \"Postman's\": 1, 'Beauchamp': 1, \"Fitzy's\": 1, 'Dominion': 1, \"O'Malle's\": 1, 'Burns': 1, 'Marshall': 1, 'Annandale': 1, 'Edward': 1, 'Eskdale': 1, 'Tolmie': 1, 'Olde': 1, 'Avenue': 1, 'CO.': 1, 'Feilding': 1, 'Dick': 1, 'Factory': 1, 'Wood': 1, 'Quays': 1, 'Wool': 1, 'Ovens': 1, 'Ronsard': 1, 'Cedars': 1, 'Sixth': 1, \"O'Flynn's\": 1, 'Timboon': 1, 'Blaxland': 1, 'Birdsville': 1, 'Beadon': 1, 'Centennial': 1, 'Carringbush': 1, 'Yaraka': 1, 'Rangiriri': 1, 'Lithgow': 1, 'Soul': 1, 'IV': 1, 'Davey': 1, 'Drunken': 1, 'Quadrant': 1, 'Hampton': 1, 'Own': 1, 'Greensborough': 1, 'Krambach': 1, \"Doolan's\": 1, 'Kogan': 1, 'Hillview': 1, \"O'Neils\": 1, 'Calala': 1, 'Vikings': 1, 'Dubliner': 1, 'Pump': 1, 'Herbert': 1, 'Sterling': 1, 'Mallanganee': 1, 'Scoundrels': 1, \"Hunter's\": 1, 'Agincourt': 1, 'Weeds': 1, 'Olive': 1, 'Durack': 1, 'Harvest': 1, 'Mad': 1, 'Blinman': 1, 'Benambra': 1, 'Goat': 1, 'Dingley': 1, \"Tradesmen's\": 1, \"Joe's\": 1, 'Shop': 1, 'Marburg': 1, 'Shark': 1, u'Bravo': 1, 'Kembla': 1, 'Belmont': 1, 'Warning': 1, 'Garry': 1, 'Elms': 1, 'Auckland': 1, 'Brandon': 1, 'Grovedale': 1, 'Swansea': 1, 'Paddy': 1, 'Homebush': 1, 'Metung': 1, 'Tamborine': 1, 'Australind': 1, 'Karuah': 1, 'Stranger': 1, 'Tapas': 1, 'Glenrowan': 1, 'Seabrook': 1, 'Seaford': 1, 'Mountbatten': 1, 'Bororen': 1, 'Mingela': 1, 'Transit': 1, 'Wayside': 1, 'Whaka': 1, 'Wooli': 1, 'Foxtrap': 1, 'or': 1, 'Glenroy': 1, 'BIllabong': 1, 'Fitzys': 1, 'Canungra': 1, 'Roches': 1, 'Jetty': 1, 'Workingmens': 1, 'Paint': 1, 'Degrees': 1, 'Barley': 1, 'Saxon': 1, 'Kilsyth': 1, 'Codfish': 1, 'Bago': 1, 'Harold': 1, 'Lunatic': 1, 'Bowen': 1, 'Cock': 1, 'Peninsula': 1, 'Kyabram': 1, 'stars': 1, 'house': 1, 'Griffins': 1, '(Brown': 1, 'Nathalia': 1, 'Willunga': 1, 'Cowboy': 1, 'Toongabbie': 1, 'Patangata': 1, 'Westernport': 1, 'Canterbury': 1, 'Harry': 1, 'Small': 1, 'with': 1, 'Grouse': 1, 'Bushland': 1, 'Indooroopilly': 1, 'Ex-Servicemans': 1, 'Tallboy': 1, 'McCools': 1, 'Barbecue': 1, 'Dugandan': 1, 'Gecko': 1, 'Hakou': 1, 'Lawnton': 1, 'Exhibition': 1, 'Cromwell': 1, 'Hog': 1, 'Pukemanu': 1, \"Denman's\": 1, 'Bootleg': 1, 'Sportsmans': 1, 'Punters': 1, 'an': 1, 'Hot': 1, 'Strike': 1, 'Banjo': 1, 'Esk': 1, 'Springfield': 1, 'Mannahill': 1, 'Morpeth': 1, 'Reach': 1, 'Tryst': 1, 'Mulwala': 1, \"Shakepeare's\": 1, '5': 1, 'Law': 1, \"L'Academie\": 1, 'Rosemont': 1, 'Birchip': 1, 'Penong': 1, 'Riverland': 1, 'Vicar': 1, 'Cabaret': 1, 'Coroglen': 1, 'Malanda': 1, \"Mary's\": 1, 'masu': 1, 'Year': 1, 'Grays': 1, 'Leighoak': 1, '(Buffalos)': 1, 'Jungle': 1, 'Luxe': 1, \"Public's\": 1, 'Moses': 1, 'Squatters': 1, 'Food': 1, 'Woolshed': 1, 'Wonky': 1, 'Moutere': 1, 'Kingsley': 1, 'Flagstaff': 1, 'Beenleigh': 1, 'Capricorn': 1, 'Angus': 1, 'Sale': 1, 'Horseshoe': 1, 'Doon': 1, 'Cowra': 1, 'Mawson': 1, 'Kalkallo': 1, 'Salt': 1, 'Allansford': 1, 'Vain': 1, 'Toby': 1, 'Bonnie': 1, 'Rest': 1, 'Course': 1, 'Oaken': 1, 'Dockside': 1, 'Easy': 1, 'Bramble': 1, 'Rusty': 1, 'Daylesford': 1, 'Dartmoor': 1, 'Buckingham': 1, 'Mick': 1, 'Bottleshop': 1, 'Marborough': 1, 'Parkview': 1, 'Malt': 1, 'Greenhouse': 1, 'Holgate': 1, 'Vaucluse': 1, 'Charlie': 1, 'Jarrahdale': 1, 'Barbs': 1, 'Currumbin': 1, 'Ploug': 1, 'Blahblah': 1, 'Cooyar': 1, 'Austins': 1, 'Forrest': 1, 'Wheelers': 1, 'Anakie': 1, 'Carbine': 1, 'Lighthouse': 1, 'Nations': 1, 'Tom': 1, 'Whalers': 1, 'Quamby': 1, 'Exford': 1, 'Belvedere': 1, 'Butlers': 1, 'Cork': 1, 'Brunner': 1, 'Lidcome': 1, 'Backyard': 1, 'Avoca': 1, 'Monbulk': 1, 'Footscray': 1, 'Gearin': 1, 'Strathfield': 1, 'Erica': 1, 'Linga': 1, 'Midtown': 1, 'Harcourt': 1, 'Seamus': 1, \"Tattersall's\": 1, 'Plaza': 1, 'Kelburn': 1, 'Birdcage': 1, 'Dangar': 1, 'Crofters': 1, 'Warburton': 1, 'Wade': 1, 'Tuppal': 1, 'Baradine': 1, 'Inc': 1, 'Conference': 1, 'Vine': 1, 'Valve': 1, \"Sally's\": 1, 'Innisfail': 1, 'Gilroys': 1, 'Glasgow': 1, 'Interstate': 1, 'Mustard': 1, 'Applejacks': 1, 'Young&main': 1, 'Porker': 1, 'Brouhaha': 1, 'Barkly': 1, 'Cooroy': 1, 'Lower': 1, 'Isis': 1, 'Gemini': 1, 'Oatley': 1, 'Cradock': 1, 'Seas': 1, 'Dergholm': 1, 'Ariah': 1, 'Phillip': 1, 'Bottom': 1, \"Gulliver's\": 1, 'through': 1, 'Sams': 1, 'Bistro,': 1, 'Huntsbury': 1, 'McKenzies': 1, 'Greyhound': 1, 'Sharkies': 1, 'Matraville': 1, 'Rolleston': 1, 'X-Wray': 1, 'Keeper': 1, 'Bat': 1, 'Licence': 1, 'Music': 1, 'Glamorgan': 1, 'Fifield': 1, 'Youth': 1, 'Amble': 1, '(Village': 1, 'Elliot': 1, 'Potter': 1, 'Rat': 1, 'Council': 1, 'Polo': 1, 'Arish': 1, 'Sport': 1, 'Horseman': 1, 'Eucla': 1, 'Moeraki': 1, 'Platform': 1, 'Muswellbrook': 1, 'Templestowe': 1, 'Ross': 1, 'Nortons': 1, 'Calamvale': 1, 'Greystanes': 1, 'Outback': 1, 'Ryde': 1, 'Hustle': 1, 'Cool': 1, 'Arnhem': 1, 'Alford': 1, 'Waikino': 1, 'Ascot': 1, 'Block': 1, 'Mulga': 1, \"Edgar's\": 1, 'Soil': 1, 'Pascoe': 1, 'Bland': 1, 'Olary': 1, 'HOTEL': 1, 'Winery': 1, '1876': 1, 'Georgetown': 1, 'Ashmore': 1, 'Gilbert': 1, 'Cosmo': 1, 'Pleasant': 1, \"John's\": 1, 'Jacks': 1, 'Robarta': 1, 'Tryphena': 1, '(Permanently': 1, 'Gunalda': 1, 'Everton': 1, 'Bellbowrie': 1, 'Carrollee': 1, 'Merinda': 1, 'Eatons': 1, 'Tooleybuc': 1, 'Delacys': 1, \"Mo's\": 1, 'Oturehua': 1, 'Creeks': 1, 'Skinny': 1, 'Seacliff': 1, \"Flanagan's\": 1, 'Limerick': 1, 'Monkeys': 1, 'Crook': 1, 'Gerogery': 1, 'Spring': 1, 'Kooyong': 1, 'Cecil': 1, 'Beachfront': 1, u'\\u2018N\\u2019': 1, 'Nemingha': 1, \"Sal's\": 1, 'Father': 1, 'Dooen': 1, 'Balranald': 1, 'Monarch': 1, 'Beaconsfield': 1, 'Bout': 1, 'Laurieton': 1, 'Murdoch': 1, 'Quinkan': 1, 'Price': 1, 'Carlton': 1, 'Arab': 1, 'Merbein': 1, 'Brookvale': 1, \"Hagan's\": 1, 'Alpha': 1, 'Guildford': 1, 'Leopold': 1, 'Farrer': 1, 'Macleay': 1, 'Martins': 1, 'M': 1, 'Magnet': 1, 'Chief': 1, 'Gemfields': 1, 'Goulburn': 1, 'Lynchs': 1, 'Zed': 1, 'Rattle': 1, 'Kardinya': 1, 'Kalamunda': 1, 'Stumble': 1, 'Kyalite': 1, 'Springs': 1, 'Poowong': 1, 'Lennox': 1, 'Moseley': 1, 'Squires': 1, 'JJ': 1, 'Dartmouth': 1, 'Charming': 1, 'JB': 1, 'Cellar': 1, 'Bass': 1, 'Boys': 1, 'Sailors': 1, 'Cooladdi': 1, \"Rudi's\": 1, 'Wantirna': 1, 'Stoneys': 1, 'Arundel': 1, 'Sanma': 1, 'Roulettes': 1, 'Dayboro': 1, 'Bedford': 1, 'Patriot': 1, 'Lenin': 1, 'Dublin': 1, 'Lakers': 1, 'Whangamomona': 1, 'Crystal': 1, 'Eaton': 1, 'Paxton': 1, 'Olympic': 1, 'Modbury': 1, 'Queenslander': 1, \"Galbraith's\": 1, 'Former': 1, 'J.': 1, 'Prairie': 1, 'Ians': 1, 'Paddock': 1, 'Bluestone': 1, 'Bombay': 1, 'Aitkenvale': 1, 'Rochester': 1, 'Toolleen': 1, 'Colliery': 1, 'Sandbelt': 1, 'Mama': 1, 'Redcliffe': 1, 'Morrison': 1, 'Lionleigh': 1, 'Kaipara': 1, 'Gowrie': 1, 'Sons': 1, 'Pint': 1, 'Brownzy': 1, 'Bentleigh': 1, 'Gurley': 1, 'Northbridge': 1, 'Blackburn': 1, 'Eastlakes': 1, 'Rose,': 1, 'Mordialloc': 1, 'Meadow': 1, 'Wharfe': 1, 'Virginia': 1, 'Hard': 1, 'Tumbarumba': 1, 'Unley': 1, 'Coogee': 1, u'Hotel\\u200e': 1, 'Rooftop': 1, 'English': 1, 'Clyde': 1, 'Jerrabomberra': 1, 'Mt.': 1, 'Cobb': 1, 'Penshurst': 1, \"O'Toole's\": 1, 'Willie': 1, 'War': 1, 'TMO': 1, 'Macs': 1, 'Hermidale': 1, 'Rogue': 1, 'Moss': 1, 'Whitfords': 1, 'Allies': 1, 'Bally': 1, 'Murrumba': 1, 'Nichloas': 1, 'Tintinara': 1, 'Colac': 1, 'Endeavour': 1, 'Torrens': 1, 'Oyster': 1, 'Ranfurly': 1, \"Father's\": 1, 'Winston': 1, 'Robina': 1, 'College': 1, 'Taupiri': 1, \"Bill's\": 1, 'Taverne': 1, 'Edwards': 1, 'Tin': 1, 'Londoner': 1, 'Returned': 1, 'Kokatah': 1, 'Kuripuni': 1, 'Swallows': 1, 'Nation': 1, 'Mangonui': 1, 'Bluff': 1, 'Strattons': 1, 'Alfresco': 1, 'Hackney': 1, 'Coq': 1, 'Randalls': 1, 'Ranch': 1, 'Hawkesdale': 1, 'Blyth': 1, 'Monk': 1, 'Pocha': 1, 'Pineapple': 1, 'Com': 1, 'Coffin': 1, 'Weileys': 1, 'Portsea': 1, 'Gully': 1, 'Woodbridge': 1, 'Korner': 1, 'Kolan': 1, 'Terrace': 1, 'Harpoon': 1, 'Cabravale': 1, 'Naracoorte': 1, \"O'\": 1, 'Labor': 1, 'Sandy\"': 1, 'Legends': 1, 'Wombat': 1, 'Kirbys': 1, 'Berkeley': 1, 'Marine': 1, 'Robert': 1, 'Tivoli': 1, 'On': 1, 'Lass': 1, 'Opal': 1, 'Air': 1, 'Stradbroke': 1, 'Cabramatta': 1, 'OG': 1, 'Legana': 1, 'Peeramon': 1, 'Finn': 1, 'Lemon': 1, 'Nomad': 1, 'Springlands': 1, 'Sandstone': 1, 'Berridale': 1, 'Plains': 1, 'Wembley': 1, 'Cobargo': 1, 'Jerramungup': 1, 'Tully': 1, 'Fire': 1, 'Sandgate': 1, 'Apollo': 1, 'Bar,': 1, 'Seadogs': 1, 'Rangitikei': 1, 'Chardons': 1, 'Currach': 1, 'Cascade': 1, 'Bom': 1, 'Culcairn': 1, 'Bog': 1, 'Square': 1, 'Yarra': 1, \"Belvidere's\": 1, 'Rob': 1, 'Briars': 1, 'Roy': 1, 'Bark': 1, 'Shaw': 1, 'Leauges': 1, 'Lewisham': 1, 'Comet': 1, 'Shak': 1, 'Edgeworth': 1, 'Normanville': 1, 'Tollgate': 1, 'Aldgate': 1, 'Norman': 1, 'SOHO': 1, 'Como': 1, 'Sixteen': 1, 'Bryan': 1, 'Ettrick': 1, 'Steed': 1, 'Chalk': 1, \"Cricketer's\": 1, 'Moby': 1, 'Franklin': 1, 'RSA/Cricket': 1, 'Sutton': 1, 'Barking': 1, 'Raceview': 1, 'Buena': 1, 'Bennett': 1, 'Humdinger': 1, 'Caxton': 1, 'Runcorn': 1, 'Sense': 1, 'Wilsons': 1, 'Flannigans': 1, 'Dubbo': 1, 'Sweetwater': 1, 'Gracemere': 1, 'Surfies': 1, 'Cross': 1, 'Hampshire': 1, 'Splash': 1, 'Nakamal': 1, 'Te': 1, 'Manhattan': 1, '6th': 1, 'Walcha': 1, 'Longley': 1, 'Max': 1, 'Bosun': 1, 'Opera': 1, 'Andrews': 1, 'Curtin': 1, 'Cornerstone': 1, 'Pheonix': 1, 'Man': 1, 'AB': 1, 'Parua': 1, 'Mungindi': 1, \"O'Keefes\": 1, 'Metre': 1, 'Birkenhead': 1, 'Kirkstall': 1, 'Zierholz@UC': 1, 'Carrier': 1, 'Derwent': 1, 'sibin': 1, 'Derby': 1, 'Coco': 1, 'Coronation': 1, 'Simpson': 1, 'Timbers': 1, 'Firehouse': 1, 'Styx': 1, 'Frenchville': 1, 'Empress': 1, 'Scots': 1, 'Monash': 1, 'Time': 1, 'Glengala': 1, 'Boating': 1, 'Saint': 1, \"MJ's\": 1, 'Gollan': 1, 'Launching': 1, 'Farside': 1, 'Weir': 1, 'Catchment': 1, 'Step': 1, 'Sefton': 1, 'Swanson': 1, 'Valhallaz': 1, 'Mrs.': 1, 'P': 1, 'Lagoon': 1, 'Bluebonnet': 1, 'Topar': 1, 'Pipers': 1, 'Ambassador': 1, 'Puhoi': 1, \"Seumus's\": 1, 'Casterton': 1, 'Tabulam': 1, 'Tatong': 1, 'Dry': 1, 'Roadvale': 1, 'Lone': 1, 'Long': 1, 'State': 1, 'Farmer': 1, 'Newborough': 1, 'Maryland': 1, 'Bath': 1, 'Graman': 1, 'Stonehenge': 1, 'Avondale': 1, 'Laik': 1, 'Sunnyhill': 1, 'Farview': 1, 'TRC': 1, 'Tarvern': 1, 'Prahran': 1, 'Advancetown': 1, \"Vulture's\": 1, 'Light': 1, 'Clad': 1, 'Our': 1, 'Attunga': 1, 'Donkey': 1, 'CBK': 1, 'Brauhaus': 1, 'Back': 1, 'Coolibah': 1, 'Duxton': 1, 'Palm': 1, 'Mulgowie': 1, 'CBX': 1, 'Shoppingtown': 1, 'Ritz': 1, \"Matty's\": 1, 'Doctor': 1, 'Muddy': 1, 'Gilgari': 1, 'Onerahi': 1, 'Smugglers': 1, 'Gresford': 1, 'Fairweathers': 1, 'Vee': 1, 'Husky': 1, 'Sellers': 1, 'Margate': 1, 'Starborough': 1, 'Mangrove': 1, 'Cornucopia': 1, 'Denmark': 1, 'Woodenbong': 1, 'Cann': 1, 'Honest': 1, 'Gums': 1, 'Claire': 1, 'Ashfield': 1, 'Bottle': 1, 'Coldstream': 1, 'Koroit': 1, 'this': 1, '(closed)': 1, 'Papakura': 1, 'Cunninghams': 1, 'Syntax': 1, 'Cheeky': 1, \"Dolly's\": 1, 'MIddleton': 1, 'Merriwa': 1, 'Parramatta': 1, 'Barklys': 1, 'Stables': 1, 'Regent': 1, 'TAIERI': 1, 'Mr.': 1, 'Bentspoke': 1, 'Crocodile': 1, 'Wayward': 1, 'Kauri': 1, 'Molly': 1, 'Orbost': 1, 'Moorebank': 1, 'Lobby': 1, 'Gunyah': 1, 'Otway': 1, 'Ettalong': 1, 'Newry': 1, 'Ringwood': 1, \"Woody's\": 1, 'Lizard': 1, 'Pockets': 1, u'H\\xf4tel': 1, 'Apple': 1, 'Grub': 1, 'Glengarry': 1, 'Bouldercombe': 1, 'Catholic': 1, 'Windang': 1, 'Buckland': 1, \"Monteith's\": 1, 'Scooters': 1, 'Match': 1, 'Blamey': 1, 'le': 1, 'Currajah': 1, 'Rattie': 1, 'Ashley': 1, 'Collarenebri': 1, 'Glasshouse': 1, 'Keysborough': 1, 'Coolamon': 1, 'Cat': 1, 'Ozone': 1, 'Dalby': 1, 'Lynbrook': 1, 'Kilbirnie': 1, 'Supreme': 1, 'San': 1, 'Shearers': 1, 'Loaded': 1, 'Liqueurs': 1, 'Blackwood': 1, 'Tankerville': 1, 'Molloy': 1, 'Caluzzi': 1, 'Mediterranean': 1, u'L\\xe9gendes': 1, 'Frog': 1, 'Bowenville': 1, 'Injune': 1, 'Cassilis': 1, 'Chatswood': 1, 'Bellbrook': 1, 'Maryvale': 1, \"O'Aces\": 1, 'Claremont': 1, 'T-Bone': 1, 'Nu': 1, 'Montville': 1, 'Tun': 1, 'Wollombi': 1, 'Rubyvale': 1, 'Grave': 1, 'Apprentice': 1, 'Teahouse': 1, 'Statesman': 1, 'Patonga': 1, 'Sweat': 1, 'Tarnagulla': 1, 'Taipa': 1, 'Agnes': 1, 'Reefs': 1, 'Middleton': 1, 'Lamb': 1, \"Simon's\": 1, 'Bollon': 1, 'Lygon': 1, 'Camperdown': 1, 'Tenthill': 1, 'Maori': 1, 'Meningie': 1, 'COLONIAL': 1, 'Miriam': 1, 'Weeroona': 1, 'Wilga': 1, 'Schrub': 1, 'Lincoln': 1, 'Bridgewater': 1, 'Rushworth': 1, 'Woolloongabba': 1, 'Macclesfield': 1, 'Burnett': 1, 'Boomerang': 1, 'Hastings': 1, 'Calen': 1, 'Goods': 1, 'Kingslander': 1, 'Burpengary': 1, 'Auburn': 1, 'Peter': 1, 'Kuranda': 1, 'Pav': 1, 'Jandal': 1, 'Flying': 1, 'Pai': 1, 'Boorhaman': 1, 'Penneshaw': 1, \"OJO's\": 1, 'Mirrool': 1, 'Burrumbeet': 1, \"Beretta's\": 1, \"d'Ali\": 1, 'Bangor': 1, 'Bealey': 1, 'Blazing': 1, 'Embankment': 1, 'Wyangala': 1, 'Inveresk': 1, 'Locomotive': 1, 'Bemm': 1, 'Woodvale': 1, 'Columbian': 1, 'Observer': 1, 'Loco': 1, 'Slip': 1, 'Pog': 1, 'Browns': 1, 'Tungkillo': 1, 'waverley': 1, 'Jubilee': 1, 'Tara': 1, 'Metropole': 1, 'Semaphore': 1, 'Regal': 1, 'Greenhills': 1, 'Bullant': 1, 'Bilambil': 1, 'Underbool': 1, 'Metropol': 1, 'Tolga': 1, 'Tumblgum': 1, 'Woolgoolga': 1, 'Loveday': 1, 'Moa': 1, 'Shadows': 1, 'bear': 1, 'Mirani': 1, 'Newport': 1, 'Wallacia': 1, 'Riffle': 1, 'Gradys': 1, 'Hawkesbury': 1, 'Jam': 1, 'Camden': 1, 'Iluka': 1, 'Generous': 1, 'Bidwill': 1, 'Hi-Way': 1, 'Zoo': 1, 'Goodwood': 1, 'Unity': 1, 'Ballan': 1, 'Hardimans': 1, 'Craigie': 1, 'Doyles': 1, 'Goon': 1, 'Monopoly': 1, 'Buckleys': 1, \"O'Briens\": 1, 'operative': 1, 'Reverence': 1, \"Molly's\": 1, 'Alloway': 1, 'Izakaya': 1, 'Harts': 1, 'Rosebud': 1, 'Stonewall': 1, 'Knopwoods': 1, 'Race': 1, 'Craftsman': 1, 'Grenfell': 1, 'Campbelltown': 1, 'P.': 1, 'Maggie': 1, \"Daisey's\": 1, 'Ruakura': 1, 'Metz': 1, 'Elevate': 1, 'Cicada': 1, '(Sportsmans': 1, 'Lawyer': 1, 'Grandchester': 1, 'Campus': 1, 'Inlet': 1, \"Parma's\": 1, 'Portobello': 1, 'Featherston': 1, 'Dandaloo': 1, 'Leura': 1, 'Holiday': 1, 'Marshalls': 1, \"O'Connor\": 1, 'Woollahra': 1, 'boatman': 1, 'Bassendean': 1, 'Kurrajong': 1, 'Gutter': 1, 'Corryong': 1, 'Boulders': 1, 'Dragon': 1, 'Briagolong': 1, 'And': 1, 'Loddon': 1, 'Marnoo': 1, \"Walsh's\": 1, 'Shafston': 1, 'Eton': 1, 'Yea': 1, 'Erringhi': 1, 'Spencers': 1, 'Melton': 1, 'Kurow': 1, 'Tumbaruma': 1, 'Southwark': 1, 'Starlight': 1, 'Walwa': 1, 'Plantation': 1, 'Sackville': 1, 'Beldon': 1, 'Return': 1, 'Boutique': 1, 'Springton': 1, 'Bear': 1, 'Excelsior': 1, \"Churchill's\": 1, 'Quilpie': 1, 'Corowa': 1, 'Portside': 1, 'Sherlock': 1, 'Danny': 1, 'Alma': 1, 'Glenferrie': 1, 'Hertiage': 1, 'Augusta': 1, 'Byford': 1, 'Whittington': 1, 'Yarck': 1, \"Red's\": 1, 'Evelyn': 1, '4017': 1, 'Julia': 1, 'Meats': 1, 'Heywood': 1, \"O'Malleys\": 1, 'Moonambel': 1, 'Grampians': 1, 'Gables': 1, 'Coonalpyn': 1, 'Merrimac': 1, 'Yorkshire': 1, 'Challa': 1, 'Tabac': 1, 'Venus': 1, 'Coff': 1, 'Brigade': 1, 'SLSC': 1, 'Club)': 1, 'Broken': 1, 'Coobowie': 1, 'Dorset': 1, 'Rampant': 1, \"Craythorne's\": 1, 'STRATH': 1, \"Montgomery's\": 1, 'Lismore': 1, 'Alement': 1, 'Nelson': 1, \"Jen's\": 1, \"Tradesman's\": 1, 'Coonamble': 1, 'England': 1, 'Sleepy': 1, 'Careys': 1, 'Centre': 1, 'Sandbar': 1, 'Whiritoa': 1, 'Westwood': 1, 'Gymea': 1, 'Lonestar': 1, 'Blenheim': 1, 'Waipara': 1, '110': 1, 'Harwood': 1, 'Meridian': 1, 'Firefly': 1, 'Billabong': 1, 'Barron': 1, 'Pub)': 1, 'Kingoonya': 1, 'Growler': 1, 'Deschlers': 1, 'Barrow': 1, 'Heaven': 1, 'Tabaret': 1, 'Woodford': 1, 'Range': 1, 'BHAS': 1, 'Bernborough': 1, 'Clubhouse': 1, 'Boggy': 1, 'Buxton': 1, \"B's\": 1, 'Wakool': 1, 'Orana': 1, 'Robbies': 1, 'Ulmarra': 1, \"Bourke's\": 1, 'Kiama': 1, 'Altona': 1, 'Unanderra': 1, 'Robertson': 1, 'Mittagong': 1, 'Hawks': 1, 'Woodstock': 1, 'Burbridge': 1, 'Kohatu': 1, 'Grapes': 1, 'Child': 1, \"Kain's\": 1, 'Bradford': 1, 'Morumdah': 1, 'Mavericks': 1, 'Stolberg': 1, \"Hermann's\": 1, 'Furneaux': 1, 'Dee': 1, 'Burrawang': 1, 'Bicycle': 1, \"Charlotte's\": 1, 'Wall': 1, 'Tea': 1, 'Pakenham': 1, 'Mariners': 1, 'Pemberton': 1, 'Bar&Grill': 1, \"DT's\": 1, 'Fenians': 1, 'Kaneira': 1, 'Ivy': 1, 'Cargo': 1, 'Hopetoun': 1, 'Springdale': 1, 'Rye': 1, 'Girrawheen': 1, 'Kempsey': 1, 'Carmila': 1, 'Fotheringhams': 1, 'Ararat': 1, 'Dunkirk': 1, 'Function': 1, 'Wallsend': 1, 'Wines': 1, '46': 1, 'Sunshine': 1, 'Tempo': 1, 'Dajarra': 1, 'Mouth': 1, 'Berwick': 1, 'Ace': 1, 'Covent': 1, 'Beerwah': 1, 'Stumpers': 1, 'Page': 1, 'Feluga': 1, 'Zagames': 1, 'Hallam': 1, 'Arms)': 1, 'Wildside': 1})\n"
     ]
    }
   ],
   "source": [
    "counts = Counter(words)\n",
    "print(counts)\n",
    "filter = []"
   ]
  },
  {
   "cell_type": "code",
   "execution_count": null,
   "metadata": {
    "collapsed": true
   },
   "outputs": [],
   "source": []
  },
  {
   "cell_type": "code",
   "execution_count": 99,
   "metadata": {
    "collapsed": false
   },
   "outputs": [
    {
     "name": "stdout",
     "output_type": "stream",
     "text": [
      "Counter({'Commercial Hotel': 48, 'Royal Hotel': 45, 'Railway Hotel': 24, 'Victoria Hotel': 20, 'Imperial Hotel': 15, 'Grand Hotel': 11, 'Tattersalls Hotel': 9, 'Crown Hotel': 8, 'Australian Hotel': 8, 'Federal Hotel': 7, 'Star Hotel': 7, 'Criterion Hotel': 7, 'Royal Oak Hotel': 7, 'Central Hotel': 7, 'Courthouse Hotel': 7, 'Exchange Hotel': 6, 'Metropolitan Hotel': 5, 'Club Hotel': 5, 'Shamrock Hotel': 5, 'Royal Mail Hotel': 5, 'Bridge Hotel': 5, 'Albion Hotel': 5, 'Town Hall Hotel': 5, 'Union Hotel': 5, 'Junction Hotel': 5, 'Retreat Hotel': 4, 'Newmarket Hotel': 4, 'Empire Hotel': 4, 'Commercial Hotel Motel': 4, 'Prince of Wales Hotel': 4, 'Rising Sun Hotel': 4, 'Wheatsheaf Hotel': 4, 'Telegraph Hotel': 4, 'Caledonian Hotel': 4, 'The Royal Hotel': 3, 'Ocean View Hotel': 3, 'The Tavern': 3, 'Tourist Hotel': 3, 'Station Hotel': 3, 'Club House Hotel': 3, 'Pig and Whistle': 3, 'The Good Home': 3, 'Grandview Hotel': 3, 'RSL': 3, 'Brothers Beer': 3, 'Oriental Hotel': 3, 'Gladstone Hotel': 3, 'Speights Ale House': 3, \"Irish Murphy's\": 3, 'Doolan Brothers': 3, 'The Royal': 3, 'Esplanade Hotel': 3, 'Belgian Beer Cafe': 3, 'The Union Hotel': 3, 'Oxford Hotel': 3, 'Great Western Hotel': 3, 'Family Hotel': 3, 'Pub': 2, 'Uni Bar': 2, 'Robin Hood Hotel': 2, 'The Craic': 2, 'Wallaroo Hotel': 2, 'The Duke of Edinburgh': 2, 'Hampden Hotel': 2, 'Cricketers Arms': 2, 'Palace Hotel': 2, 'Victoria Tavern': 2, 'Country Club Hotel': 2, 'Cumberland Hotel': 2, 'The Oxford Hotel': 2, 'The Farmers Arms': 2, 'Melbourne Hotel': 2, 'Cambridge Hotel': 2, 'Pastoral Hotel': 2, 'Elephant & Wheelbarrow': 2, \"Mac's Hotel\": 2, 'Ocean Beach Hotel': 2, 'Globe Hotel': 2, 'Alexandra Hotel': 2, 'Civic Hotel': 2, 'The Rose Hotel': 2, 'Prince Alfred Hotel': 2, 'Grand Tavern': 2, 'Oasis Hotel': 2, 'Windsor Castle': 2, 'The Pioneer': 2, 'Grand Central Hotel': 2, 'Post Office Hotel': 2, 'The Paddington': 2, 'Victory Hotel': 2, 'Memorial Club': 2, 'White Hart Hotel': 2, 'The Brewhouse': 2, 'Pioneer Tavern': 2, 'Harrigans': 2, 'Pier Hotel': 2, 'The Local Taphouse': 2, 'Royal Oak': 2, 'Customs House': 2, 'Boathouse Tavern': 2, 'The Sail and Anchor': 2, 'Cremorne Hotel': 2, 'The Star Hotel': 2, 'Portland Hotel': 2, 'The Bended Elbow': 2, 'The Club Hotel': 2, 'Bank Hotel': 2, 'Corner Bar': 2, 'Bridge Inn Hotel': 2, 'Eltham Hotel': 2, 'The Empire': 2, 'Coach & Horses Inn': 2, 'Astor Hotel': 2, 'Marlborough Hotel': 2, 'Settlers Tavern': 2, 'Brunswick Hotel': 2, 'Eureka Hotel': 2, 'St Ives': 2, 'Waterfront Hotel': 2, 'Ivanhoe Hotel': 2, 'Belmore Hotel': 2, 'The Office': 2, 'Village Green Hotel': 2, 'Terminus Hotel': 2, 'Woolpack Hotel': 2, 'The Fiddler': 2, 'Green Park Hotel': 2, 'Seabreeze Hotel': 2, 'Heritage Hotel': 2, 'Bush Inn Hotel': 2, 'Empire Tavern': 2, 'The Duck Inn': 2, 'Park Hotel': 2, 'Raffles Hotel': 2, 'Mountain View Hotel': 2, 'The Red Lion': 2, 'Sydney Hotel': 2, 'Royal Standard Hotel': 2, 'Kingston Hotel': 2, 'Wolseley Hotel': 1, 'Parramatta Leagues Club': 1, 'Porterhouse Hotel': 1, 'Bland Hotel': 1, 'College Lawn Hotel': 1, \"Freemason's\": 1, u\"L'impr\\xe9vu\": 1, 'Ploug Inn': 1, 'Platform 66': 1, 'Alfresco GBT': 1, 'Radio Springs Hotel': 1, 'Coleraine Hotel': 1, 'Leigh Creek Tavern': 1, 'Reverence Hotel': 1, 'Penong Hotel': 1, 'Mount Alford Hotel': 1, 'Bayview Hotel': 1, 'Westside Tavern': 1, 'Rattle n Hum': 1, 'Upper Horton Sports Club': 1, 'Parilla Hotel': 1, \"Queen's Hotel\": 1, 'Royal Crown Hotel': 1, 'Mendooran - Merrygoen Memorial Club': 1, 'Wyangala Country Club': 1, 'Rosedale Tavern': 1, 'Poowong Hotel': 1, 'Brew': 1, 'Mount Molloy National Hotel': 1, 'Provedor': 1, 'Delegate River Tavern': 1, 'Rangiriri Tavern': 1, 'Macs Hotel': 1, 'Mallacoota Golf Club': 1, 'The Dock': 1, \"O'Neils Irish Pub\": 1, 'Berridale Inn': 1, \"O'Malley's Hotel\": 1, 'Duke of Marborough Tavern': 1, 'QF Tav': 1, 'Marquis Of Hastings': 1, 'Matakana Tavern': 1, 'Union Hotel Brunswick': 1, 'Rose, Shamrock and Thistle Hotel': 1, 'Mungindi RSL Club': 1, 'Star Bar Cafe': 1, 'Wattle Grove Tavern': 1, 'Coonalpyn Hotel': 1, 'Bankstown Hotel': 1, 'Pyalong Hotel': 1, 'Lidcome Hotel': 1, 'Horse and Jockey Hotel': 1, 'Jack Ruby': 1, 'Uralla Bowling Club': 1, 'The Light Brigade Hotel': 1, 'Mornington Tavern': 1, 'Red Lantern Hotel': 1, 'Eaton Tavern': 1, 'Dungowan Hotel': 1, 'Tudor Inn': 1, 'Small Bar': 1, 'Prince of Wales': 1, 'The Australian Youth Hotel': 1, 'Podges Place': 1, 'The Lower House': 1, 'Munich Brauhaus': 1, 'Barron River Hotel': 1, 'Market Hotel': 1, 'The Last Drop': 1, 'Inverleigh Hotel': 1, 'Gilroys Hotel': 1, 'Bel-Aire Tavern': 1, 'Daly Waters Hi-Way Inn': 1, 'Mona Vale Hotel': 1, 'Silverton Cafe': 1, 'Tantanoola Tiger Hotel': 1, 'Prince of Wales Hotel Motel': 1, 'Hardimans Hotel': 1, 'Queens Head Inn': 1, 'Walcha Road Hotel': 1, \"PJ O'Brien's Irish Pub\": 1, 'Lotts Family Hotel': 1, 'Rosewater Hotel': 1, 'Woolgoolga Diggers RSL Club': 1, 'West End Tavern': 1, 'Tasting Room': 1, 'Our Local': 1, 'Windang Hotel': 1, 'De Post': 1, 'Runcorn Tavern': 1, 'El Arish Tavern': 1, 'Alpha Street Kitchen and Bar': 1, 'Starlight Tavern': 1, \"Churchill's Sports Bar\": 1, 'City of Sydney RSL Club': 1, 'Blue Pub': 1, 'Pinnacle Hotel': 1, 'South Australian Hotel': 1, 'Mavericks Saloon': 1, 'Springfield Hotel': 1, 'Five Dock Hotel': 1, 'Birdcage Tavern': 1, 'Meadowbrook Hotel': 1, \"Murphy's Law Irish Bar\": 1, 'Cook Saddle': 1, 'Pukenui Pacific Restaurant & Bar': 1, 'Club Hotel Ferntree Gully': 1, 'Mount Tamborine Vineyard And Winery': 1, 'Lion Rampant Hotel': 1, 'Greenhills Inn': 1, 'Wooli Hotel/Motel': 1, 'Rex Hotel': 1, 'Hillview Tavern': 1, 'Cardinia Club': 1, 'Holgate Brewhouse': 1, 'Chamberlain Hotel': 1, 'Spencers Brook Tavern': 1, 'Cool Dingo Bar': 1, 'Little Hard Hills Hotel': 1, 'Portside Tavern': 1, 'Mercantile Hotel': 1, 'Club Boutique Hotel Cunnamulla': 1, 'Old Sydney Hotel': 1, 'Bemagui Beach Hotel Motel': 1, 'Kawhia Boating and Angling Club': 1, 'Luna': 1, 'The Round House Tavern': 1, 'The Bog Irish Bar': 1, 'Berry Hotel': 1, 'Woolloware Golf Club': 1, 'Old Bundy Tavern': 1, 'Lakes and Ocean Hotel': 1, 'Quokka Arms': 1, 'The Brick Factory': 1, 'Old England Hotel': 1, 'The Harlequin': 1, 'Cedars Tarvern': 1, 'Seven Mile Inn': 1, 'Pub & Grub': 1, 'Quilpie Imperial Hotel': 1, 'The Apartment': 1, 'White Tank Hotel': 1, 'Tempo Hotel': 1, 'The Carine': 1, 'Dry Dock': 1, 'Lord Wolseley Hotel': 1, 'The Crown': 1, 'Darlo': 1, 'Montague Hotel': 1, 'Wakool Hotel': 1, 'Sweat Shop': 1, 'Beer Garden': 1, 'Zoo Eatery Lounge': 1, 'Valern Hotel': 1, 'Panmure Hotel': 1, u'Home Tavern Hotel\\u200e': 1, 'Moutere Inn': 1, 'Warilla Sports Club': 1, 'The Clare Inn': 1, 'The Sporting Globe': 1, 'The Camperdown Hotel': 1, 'Yambuk Inn': 1, 'Calamvale Hotel': 1, 'The Hyde Cellars': 1, \"JB O'Reilly's\": 1, 'Stanley Hotel': 1, 'Furneaux Tavern': 1, 'The London': 1, 'Bischoff': 1, 'Lord Dudley Hotel': 1, 'Xona': 1, 'an sibin': 1, 'Cabravale Diggers': 1, 'Smiggins Hotel': 1, 'Reefton Hotel': 1, 'International Hotel': 1, \"Kain's Cafe & Bar\": 1, 'The Wonky Donkey': 1, 'Rose and Crown': 1, 'Palmer River Roadhouse': 1, 'Water Rat Hotel': 1, 'Pannawonica Tavern': 1, 'Bellbird Arms Tavern': 1, 'Alma Hotel': 1, 'Albert Town Tavern': 1, 'Athletic Club': 1, 'Andergrove Tavern': 1, \"Brewer's Apprentice\": 1, 'Occidental Hotel': 1, 'The Grand': 1, 'Shenannigans': 1, 'Two Metre Tall Brewery': 1, 'Dartmouth Hotel': 1, 'Austral Hotel': 1, 'Agnes Water Tavern': 1, 'Costellos': 1, \"Montgomery's Hotel\": 1, 'Kooyong Hotel': 1, 'Sir John Young Hotel': 1, 'Shoppingtown Hotel': 1, 'Powell Hotel': 1, \"O'Mara's Hotel\": 1, 'Stonehenge Hotel': 1, 'Ship Inn': 1, 'Royal George Hotel': 1, 'Hallam Pub': 1, 'Seaview Tavern': 1, 'waverley estate': 1, 'Styx River Hotel': 1, 'The Premier Hotel': 1, 'Surrey Hotel': 1, 'The Lansdowne Hotel': 1, 'The Unley': 1, 'Stoneys Club': 1, 'Meadows Hotel': 1, 'Manning Bar': 1, 'Hot Water Brewing Co.': 1, 'The Deck BBQ & Bar': 1, 'The Cricketers Arms': 1, 'The Block': 1, 'Sixteen Tun': 1, 'The Cork and Keg': 1, 'Black Swan Hotel': 1, 'Porterhouse Grill': 1, 'Lorne Hotel': 1, 'Nowa Nowa Hotel Motel': 1, 'Glengarry Castle Hotel': 1, 'STRATH TAIERI HOTEL': 1, 'The Strand Tavern': 1, 'Onerahi Tavern': 1, 'Wallangarra Golf Club': 1, 'Burra Hotel': 1, 'Nixon Hotel': 1, 'Club de Sanma': 1, 'The White Pub': 1, 'Match Day Bar': 1, 'Ovens Hotel': 1, 'Barraba Bowling Club': 1, 'The Plough Bar, Bistro, Bed and Breakfast': 1, \"Fat Sally's\": 1, \"P J O'Brien's\": 1, 'The Australian Hotel': 1, 'Muddy Farmer': 1, 'Goldfields Hotel': 1, 'Robertson Inn': 1, 'Raglan Club': 1, 'Bellbowrie Sports and Recreation Club Inc': 1, 'Fat Lamb Hotel': 1, 'Tumblgum Tavern': 1, 'Healesville R.S.L.': 1, 'Inveresk Tavern': 1, 'West Wallsend Workers Club': 1, 'Taipa Tavern': 1, 'Rollingstone Hotel': 1, 'Cooper': 1, 'Bristol': 1, 'Mash Brewery': 1, 'Greyhound Hotel': 1, 'Blackwood Pub': 1, \"O'Keefes Hotel\": 1, 'Sovereign': 1, 'The Hideaway Bar': 1, 'Harrietville Hotel Motel': 1, 'Venus Foodtrap': 1, 'Challa Gardens Hotel': 1, 'Brewhouse Brisbane': 1, 'Manhattan Hotel': 1, 'Kirwee Tavern': 1, 'Woodvale Tavern': 1, 'Le Deck': 1, 'The Greenwood': 1, 'Durack Tavern': 1, 'Zed Bar': 1, 'Stradbroke Island Beach Hotel': 1, 'Claire Castle Hotel': 1, 'Euroa Hotel': 1, 'National Hotel': 1, 'Scarlett Slimms and Lucky': 1, 'The Ritz Sports Bar': 1, 'Hotel Ngatea': 1, 'Quarry Hotel': 1, 'Dingo Hotel': 1, 'Camden Valley Inn': 1, 'Lithgow Hotel': 1, 'Judge House of Ale': 1, 'The Beachfront Hotel': 1, 'The Junction Club': 1, 'Caxton Hotel': 1, 'Pig and Whistle Hotel': 1, 'Arab Steed Hotel': 1, 'Imperial Pub': 1, 'Tramway Hotel': 1, 'Kingaroy Hotel Motel': 1, 'Swan Reach Hotel': 1, 'Bago Tavern': 1, 'UBET': 1, 'Penshurst Inn': 1, 'Bulloo River Hotel-Motel': 1, 'Moore Park View Hotel': 1, 'Runaway Bay Tavern': 1, 'Gundagai District Services Club': 1, 'Rakinos': 1, 'Lilydale Tavern': 1, 'Lone Pine Tavern': 1, 'North Richmond Hotel': 1, 'Ozone Hotel': 1, 'The Pav Bar': 1, 'Westwood Hotel': 1, 'Rubyvale Hotel': 1, 'Foster Exchange Hotel': 1, 'Sugarloaf Creek Hotel (rebuilt)': 1, 'Timboon Hotel Motel': 1, 'Prairie Hotel': 1, 'Bull & Bush Hotel': 1, 'Mangrove Jacks': 1, 'Little Beer Quarter': 1, 'The Aussie Inn': 1, 'Bullant Brewery': 1, 'The Nags Head': 1, \"MJ's Bar\": 1, 'Meningie Hotel': 1, 'Wollombi Tavern': 1, 'Batlow Hotel': 1, 'Canungra Hotel': 1, 'Merriwa Tavern': 1, 'Gol Gol hotel': 1, 'Swanson Hotel': 1, 'The Standard': 1, 'The Arnhem Club': 1, 'Durham Hotel': 1, 'Edinburgh Street': 1, 'Calala Inn': 1, 'Largs Pier Hotel': 1, 'Hawkesdale Hotel': 1, 'Finn McCuhals': 1, 'The Drunken Poet': 1, 'Hotel New York': 1, 'Briagolong Hotel': 1, 'Matraville Hotel': 1, 'Peel Ale House': 1, 'Taylors Hotel': 1, 'Avon Valley Inn': 1, 'Gayndah Grand Hotel': 1, 'Old Colonial Inn': 1, \"Mick O'Shea's Irish Pub & Motel\": 1, 'Riffle Club Hotel': 1, 'Morumdah Hotel': 1, \"Omar's\": 1, 'Dee Why Hotel': 1, 'Clifton Hill Brewpub': 1, 'Wheelers Hill Hotel': 1, 'Backyard Bar and Eatery': 1, 'Bridge Road Brewers': 1, 'The Cove Hotel': 1, 'Pacific Pines Tavern': 1, 'Lady Burra Brewhouse': 1, \"Smitty's Sports Bar\": 1, 'Hotel Gin Gin': 1, 'Mid City Tavern': 1, 'The Prince Alfred': 1, 'Tallboy and Moose': 1, \"PJ O'Reillys\": 1, 'Cricket Club Hotel': 1, 'Castlecliff Hotel': 1, 'Pilliga Pub': 1, 'Lake Ferry Hotel': 1, 'Bavarian Beerhouse': 1, 'Lake View Hotel': 1, \"Fin MacCool's Irish Pub\": 1, 'Park View Hotel': 1, 'Apollo Bay Hotel': 1, 'Water Bar': 1, 'Macclesfield Hotel': 1, 'Flying Moa': 1, 'Dandaloo Hotel Motel': 1, \"Father's Office\": 1, 'Seaford RSL': 1, 'Park Beach Hotel Motel': 1, 'Goodwood Park Hotel': 1, 'Darnum Hotel': 1, 'Eton Hotel': 1, \"Flanagan's Irish Pub\": 1, 'The Bay Hotel Motel': 1, 'Beehive Hotel': 1, 'TMO Sports bar': 1, 'Pyrmont Point Hotel': 1, 'Salisbury Hotel': 1, 'Micawber Park Tavern': 1, 'Simpson Desert Oasis': 1, 'Burrumbeet Hotel': 1, 'East Hotel': 1, 'Albert Park Hotel': 1, 'Grafton Hotel': 1, 'Raceview Tavern': 1, \"Sal's Pub\": 1, 'Hotel Bennett': 1, 'Bootleg Brewery': 1, 'UBar': 1, 'Nar Nar Goon Hotel': 1, 'The Stags Head': 1, 'Dangar Island Bowling Club': 1, 'Cobb & Co Hotel': 1, 'Phillip Island Football Club': 1, 'Marshall McMahon Hotel': 1, 'Yard House': 1, 'Kuripuni Sports Bar & TAB': 1, 'The Black Harp Bar and Restaurant': 1, 'Diggers Tavern': 1, 'The Old Woy Woy Hotel': 1, 'Erringhi Hotel': 1, 'Harrys Bar': 1, 'Ulmarra Hotel': 1, 'Rosebery Hotel': 1, 'Blue Bell Hotel': 1, 'Top Hut Sportsbar': 1, 'Moretons': 1, 'Deloraine Hotel': 1, 'Carousel Inn': 1, 'Mundaring Weir Hotel': 1, 'Dunedoo Hotel': 1, 'Patonga Hotel': 1, 'The Mount Dandenong Hotel': 1, 'Northern Union': 1, \"Maginty's\": 1, 'William Creek Hotel': 1, 'Maryville Tavern': 1, 'Laurieton Hotel': 1, \"Grumpy's Brewhaus\": 1, 'Minnipa Hotel': 1, 'Norfolk Tavern': 1, 'Ashfield Hotel': 1, 'Hotel Cecil': 1, 'Miriam Vale Hotel': 1, 'John Curtin Hotel': 1, 'South Hurstville RSL': 1, 'Glenelg Jetty Hotel': 1, 'The Plough Hotel': 1, 'Tom Price Hotel': 1, 'Town and Country Hotel': 1, 'Bucca Hotel': 1, 'Allansford Hotel': 1, 'Portsea Hotel': 1, 'The Macleay Hotel': 1, 'Pog Mahones': 1, 'Bigmouth': 1, 'Lang Lang Pub': 1, 'Chalk Hotel': 1, 'Kai Whaka Pai Bar': 1, 'Torquay Hotel': 1, 'Clare Tavern': 1, 'Aces Bar': 1, 'Brewers Co operative': 1, 'Beach Bottle': 1, 'Kalamari': 1, \"Cock 'n' Bull British Pub\": 1, \"Fitzi's\": 1, 'Chatswood Hills Tavern': 1, 'Semaphore Hotel': 1, 'Triple Ace Bar': 1, 'Prince Edward Hotel': 1, 'Hideaway Beach Bar': 1, 'Wallaroo Tavern': 1, 'Carringbush Hotel': 1, 'Page Tavern': 1, 'Austins': 1, 'Counter Culture': 1, 'Market City Tavern': 1, \"Hudson's Hotel\": 1, \"Dr Rudi's Rooftop Brewing Co\": 1, '\"The Sandy\" Hotel': 1, u'H\\xf4tel Bravo': 1, 'Globe Bar': 1, 'Hermidale Hotel': 1, 'Teahouse Tavern': 1, 'The Clovelly Hotel': 1, 'Kokatah pub. The Kok': 1, 'Boolarra Pub': 1, 'Harvgreaves Hill Brewing Company': 1, 'Cattle Camp Motel': 1, 'Harlequin Inn': 1, 'Bowling Club': 1, 'Pioneer Arms Hotel': 1, 'Briars Inn': 1, 'Little Pub Off Hindley': 1, 'The Orchard': 1, 'Crossing Inn Hotel': 1, \"Moonyne Joe's\": 1, 'Coopers Alehouse': 1, 'Asquith Bowling & Recreation Club': 1, 'The Homestead Bar': 1, 'Leigh Sawmill Cafe': 1, 'Goodna RSL': 1, 'Paddys': 1, 'Mirboo Noth Commercial Hotel Motel': 1, 'Millaa Millaa Hotel': 1, \"Paddy's Ale House Irish Pub\": 1, 'Hotel Tivoli': 1, 'Stuart Tavern': 1, \"Ploughman's Rest\": 1, 'San Remo Hotel Motel': 1, 'Girrawheen Tavern': 1, 'Georgetown Hotel': 1, \"Paddy Malone's\": 1, 'Parua Bay Tavern': 1, 'Beach Bar': 1, 'Marina Quays Tavern': 1, 'Shark Hotel': 1, 'Greensborough Hotel': 1, 'Farmers Hotel': 1, 'Paxton Hotel': 1, 'CBD Hotel McGuires': 1, 'Victoria Inn': 1, 'Riverview Hotel': 1, 'Hotel Allen': 1, 'Duke of Kent Hotel': 1, 'Mt Carbine Hotel': 1, 'Wantirna Club': 1, 'Cherry Tree Hotel': 1, 'Sons of the Soil Hotel': 1, 'Echunga Memorial RSL': 1, 'Marrawah Tavern': 1, 'Eagle Tavern': 1, 'Martins Goolma Hotel': 1, 'Eucla Hotel Motel': 1, 'Golden Bosun': 1, 'The Dam Hotel': 1, 'Claddagh': 1, 'Warners Bay Bowling Club': 1, 'Uranquinty Hotel': 1, 'Huon Hill': 1, 'Inn Field Sports Bar': 1, 'The Wynyard Hotel': 1, 'Buena Vista Hotel': 1, 'Breakfast Creek Hotel': 1, 'Ocean View Tavern': 1, 'Council Club Hotel': 1, 'Settlers Hotel': 1, 'Cooma Hotel': 1, 'Frenchville Sports Club': 1, 'Grill Meats Beer': 1, 'The Lula Inn': 1, 'Illawarra Catholic Club': 1, 'The Pier Bar': 1, 'Mumballup Tavern': 1, 'Oxford Tap House': 1, 'Arcadia Hotel': 1, 'The Warren View Hotel': 1, 'Young Hotel': 1, 'Fountain Inn': 1, 'The Great Northern Hotel': 1, 'Wellington Arms': 1, 'Blue Pacific Hotel': 1, 'Court House Hotel': 1, 'Bingara RSL Club': 1, 'Harp of Erin Hotel': 1, 'TRC': 1, 'Fox and Ferret': 1, 'Careys Bay Historic Hotel': 1, 'Heywood Hotel': 1, \"O'Malleys Bar\": 1, 'Yard Bird': 1, 'Thirsty Camel': 1, 'Katherine Country Club': 1, \"Hemingway's Manly\": 1, \"Paddy's Brewery & Bar\": 1, 'Cricketers Arms Hotel': 1, 'Brooklands Tavern': 1, 'The East Sydney Hotel': 1, \"Wilson's Sports Bar\": 1, 'Carriers Arms': 1, 'Hotel Culcairn': 1, 'The Riverview': 1, 'Bunyip Pub': 1, 'Coach & Horses Hotel': 1, 'New Occidental Hotel': 1, 'Prahran Hotel': 1, 'Step Inn': 1, 'Molly Malones': 1, 'Roadvale Hotel': 1, 'Tingalpa Hotel': 1, 'Rydales Tavern': 1, 'Brewski': 1, 'Madison Hotel': 1, 'Junction Inn Hotel': 1, 'District Hotel': 1, 'Scoundrels and Seadogs Bar and Grill': 1, 'Western Star Hotel Motel': 1, 'Coff and Food': 1, 'Jondaryan Hotel': 1, 'The Lord Roberts': 1, 'The National Hotel': 1, 'Slip Inn': 1, \"O'Malley's irsh Tavern\": 1, 'Tassie Tavern': 1, 'Richmond Club Hotel': 1, 'Belmore RSL': 1, u'Crossroads Caf\\xe9': 1, 'Ians Western hotel': 1, 'The Great Western Hotel': 1, 'Strattons Hotel': 1, 'Goodna Bowls Club/Temporary RSL': 1, 'British Isles': 1, 'Marquis of Normanby': 1, 'Burrawang Pub': 1, 'Iluka Tavern': 1, 'The Columbian Hotel': 1, '3 Weeds Hotel': 1, 'Gunyah Hotel': 1, 'Frisco Hotel': 1, 'Tarnagulla Golden Age Hotel': 1, 'The Old Mill': 1, \"Cooper's Hotel\": 1, 'The Palms': 1, 'Tasmanian Inn': 1, 'Halfway Hotel': 1, 'Orient': 1, 'The Boundary Hotel': 1, 'Daly Waters Pub': 1, 'Thornlie Tavern': 1, 'Calen Hotel': 1, 'New Sydney Hotel': 1, 'Windaroo Tavern': 1, 'Britannia Hotel': 1, 'Hotel Cunnamulla': 1, 'River Royal Inn': 1, \"Jen's Hotel\": 1, 'Castle Glen Liqueurs': 1, 'Nemingha Tavern': 1, 'The Claddagh': 1, 'Plough Inn Hotel': 1, 'Westside': 1, 'Loveday Tavern': 1, 'Railway Club Hotel': 1, 'The Basement': 1, 'Public Bar': 1, 'Keno': 1, 'The Epping Hotel': 1, 'The Gippsland Hotel': 1, 'The Local': 1, 'Eastlakes Football Club': 1, 'Tintinara Hotel': 1, 'Terang Hotel': 1, 'The Parap Hotel': 1, 'Caringbah Inn': 1, 'Yarraman Hotel': 1, 'Great Central Hotel': 1, 'Arcadia Liquors': 1, 'Yalgoo Hotel': 1, 'Dunter Sports Bar': 1, 'Bin Bin Deluxe': 1, 'The Richmond Arms Hotel': 1, 'The Old Bar': 1, 'General Washington Hotel': 1, 'Rum Jungle Tavern': 1, 'Murrayville Hotel': 1, 'The Birkenhead Hotel': 1, 'Manilla Bowling Club': 1, 'Harwood Hotel': 1, 'The Sutton Forest Inn and Bistro': 1, 'Bar Cleveland': 1, 'Crown & Anchor Hotel': 1, 'The Firehouse Hotel': 1, 'Harts Pub': 1, 'Crossroads Hotel': 1, 'Cobargo Pub': 1, 'The Brunswick Green': 1, 'Schrub': 1, 'Returned Services League': 1, 'Grand Ridge Brewery': 1, 'The British': 1, 'Warner Tavern': 1, 'Ariah Park Hotel': 1, 'Boundary Hotel': 1, 'Hampden Tavern': 1, 'Hyde Park Hotel': 1, 'Mansfield Park Hotel': 1, 'Bollon Hotel': 1, 'Cooyar Hotel': 1, 'Kaneira Hotel': 1, 'Birralee Tavern': 1, 'Soul Bar and Bistro': 1, 'George Town RSL': 1, 'Otway Junction Motor Inn': 1, 'The White Rabbit': 1, 'Taroom Bowls Club': 1, 'Darling Downs Hotel': 1, 'Hayes Creek Wayside Inn': 1, 'Leura Hotel': 1, 'Happy Fays Sorrento': 1, 'The Lion of Waterloo': 1, 'Aitkenvale Hotel': 1, 'Westernport Hotel': 1, 'Sussex RSL Club': 1, 'Emerald Hotel': 1, 'Cowwarr Cricket Club Hotel': 1, 'Vapiano': 1, 'North Australian Hotel': 1, 'Starborough Tavern': 1, 'Pub on the Wharf': 1, 'Vauxhall Inn': 1, 'Legana Tavern': 1, 'White Cockatoo Hotel': 1, 'Nevertire Hotel': 1, \"Whelan's Strathfield Hotel\": 1, 'Newtown Hotel': 1, 'Corryong Hotel Motel': 1, 'Kelburn Village Pub': 1, 'Headquarters Restaurant and Bar': 1, 'Watch House Lounge Bar': 1, 'Pub in the Paddock': 1, 'Edwards Tavern': 1, 'Yankalilla Hotel': 1, 'Bell Tavern': 1, 'Rosie O Gradys Irish Pub': 1, \"The Public's Corner\": 1, 'Hotel Elliot': 1, 'Village Hotel': 1, 'Valley Tavern': 1, 'Browns Corner Hotel': 1, 'Edge Hill Tavern': 1, 'The Dispensery': 1, 'The Hotel Emerald': 1, 'Fern Tree Tavern & Wildside Cafe': 1, 'T42': 1, 'Old Clare Hotel': 1, 'Yandaran Hotel': 1, 'Lucky Coq': 1, 'York on Lilydale': 1, 'The Old Bailey': 1, 'Capella Commercial Hotel': 1, 'Windsor Hotel Motel': 1, 'Denison Hotel': 1, 'Toongabbie Hotel': 1, 'Archive': 1, 'The Gutter Bar': 1, 'Goods Shed Craft Beer Cafe': 1, 'Aberdeen Top Pub': 1, 'CBD Hotel': 1, 'Ross Island Hotel': 1, 'Bom Bora Bar': 1, 'Brewery': 1, 'The Bald Faced Stag Hotel': 1, 'Poochera Hotel': 1, 'Old Bank': 1, 'Glenrowan Hotel': 1, 'Stolberg Beer Cafe': 1, 'Killarney Hotel': 1, 'The General Havelock': 1, 'Buffalo Hotel': 1, 'Starrs': 1, 'Rockfall Cafe': 1, 'Mount Tyson Hotel': 1, 'The Botanic': 1, 'Buckland Hotel': 1, 'Lakes Hotel': 1, 'North Blinman Hotel': 1, 'Ranges Hotel': 1, 'Mount Compass Tavern': 1, 'Coldstream Brewery': 1, 'Inn Keeper': 1, 'Clarendon Arms Hotel': 1, 'Foxtrap Cooladdi Roadhouse': 1, 'George Hotel': 1, 'Bowen River Hotel': 1, 'The Beach Hotel': 1, 'Illawarra Hotel': 1, 'Exeter Hotel': 1, 'The Pickle Jar': 1, 'Blazing Stump Hotel': 1, 'Oatley Hotel': 1, 'Waikino Tavern': 1, \"Quinn's Post\": 1, 'Rattie n Hum': 1, 'Hilltop Hotel': 1, 'The Edinburgh Castle Hotel': 1, 'Tennant Creek Hotel': 1, 'Dooen Pub': 1, 'Queens Hotel': 1, 'Irvinebank Pub': 1, 'Lyndhurst Hotel': 1, 'The Mallow Hotel': 1, 'Baden Powell Hotel': 1, 'Tolga Hotel': 1, 'The Duke of Gloucester Hotel': 1, \"Shakepeare's Tavern\": 1, 'St Leonards Hotel': 1, 'The Brownzy': 1, 'Haymarket Hotel': 1, 'The Lennox Hotel': 1, 'The Chermside Tavern': 1, 'Strand Hotel': 1, 'North Eastern Family Hotel': 1, \"Woden Tradesman's Union Club\": 1, 'Rogans Bar': 1, 'Harpoon Harry': 1, 'Eureka': 1, 'Beenleigh Tavern': 1, 'Federal Hotel Motel': 1, 'North Wollongong Hotel': 1, 'The Hope Inn': 1, 'Cableways Tavern': 1, 'Feilding Hotel': 1, 'Orana Hotel': 1, 'The Village Inn': 1, 'Lake Bolac Hotel': 1, 'Robbies': 1, 'Candelo Family Hotel': 1, 'The Redwood Tavern': 1, 'The Yorkshire Hotel': 1, 'Old Empire Hotel': 1, \"Tattersall's Hotel\": 1, 'Woodenbong Hotel': 1, 'Loaded Dog Hotel': 1, 'Captain Cook Tavern': 1, 'Blahblah Cheltenham': 1, 'Hop & Pickle': 1, 'William Wallace': 1, 'Seven Creeks Hotel': 1, 'Ettamogah Hotel': 1, 'Newborough Pub': 1, 'Balranald Hotel': 1, 'Kinselas': 1, 'Mangere Bridge Tavern': 1, 'Molloys, Irish bar': 1, 'Ararat Hotel': 1, 'Cornerstone Pub': 1, 'Lakeside Village Tavern': 1, 'Western Star Hotel': 1, 'Statesman Hotel': 1, 'Thoroughbred Hotel': 1, 'Bull \"n\" Bush Hotel': 1, 'Bidwill Tarven': 1, 'Maid of Auckland Hotel': 1, \"La Taverne d'Ali Tapas\": 1, 'Rosstown Hotel': 1, 'Royal Melbourne Hotel': 1, 'Old Railway Hotel': 1, 'Iron Duke Hotel': 1, 'Regency Park Tavern': 1, 'Normanby Tavern & Bistro': 1, 'Flanagans': 1, 'Penneshaw Hotel': 1, 'The Grand Hotel': 1, 'Le Bout du Monde': 1, 'Fenians Pub': 1, 'Healesville Hotel': 1, 'Peeramon Hotel': 1, 'Royal': 1, 'Yar': 1, \"Mrs. Parma's\": 1, 'Sporting Legends': 1, 'Dromedary Hotel': 1, 'Gerogery Hotel': 1, 'European Bier Cafe': 1, 'Punters Palace': 1, 'Coopers Inn': 1, 'Bombala RSL Club': 1, 'The Bearded Lady': 1, 'Mitchell Downs Tavern': 1, u'Pig \\u2018N\\u2019 Whistle': 1, 'Sir Henry Barklys Hotel': 1, 'The Elephant & Wheelbarrow': 1, 'Grampians Motel Bar': 1, 'New Ivanhoe Hotel': 1, 'Brisbane Valley Tavern': 1, 'The Newport': 1, 'The Railway Hotel': 1, 'Roxbury Hotel': 1, 'Mapleton Hotel': 1, 'Oaks Hotel Motel': 1, 'Forbes Hotel': 1, 'The Windsor': 1, 'Coroglen Tavern': 1, 'Drovers Return': 1, 'Castle Hotel': 1, 'Marshalls Commonwealth Hotel': 1, 'Albert Hotel': 1, 'Hotel Royal': 1, 'Cronulla Lawn Bowling Club': 1, 'Coniston Hotel': 1, 'Empire State Hotel': 1, 'Oxley Hotel': 1, 'Settlement': 1, 'The Brook': 1, 'Hill Street Tavern': 1, 'Flowerdale Hotel': 1, 'Bayswater Hotel': 1, 'The Bun Pub': 1, 'RSA/Cricket Club': 1, 'Grey Gums Hotel': 1, 'Barrow Creek Hotel': 1, 'Orbost Club Hotel': 1, \"Gilhooley's\": 1, 'Nebo Hotel': 1, 'Rosebery Top Pub': 1, 'Neville Hotel': 1, 'Leopold Hotel': 1, 'Lawnton Tavern': 1, 'Mona Castle': 1, 'Nathalia Hotel': 1, 'The Thirsty Pig': 1, 'Parkhurst Tavern': 1, 'Maryvale Crown Hotel': 1, 'Chardons Corner Hotel': 1, 'Laird Hotel': 1, 'The Eastern': 1, 'The Bramble': 1, 'Vee Wall Tavern': 1, 'Alexander Hotel': 1, 'Bororen Hotel Motel': 1, 'Forest Reefs Tavern': 1, 'The Landmark': 1, 'Golden Fleece': 1, 'Fitzroy Hotel': 1, 'Ballimore Inn': 1, 'Bull & Mouth Hotel': 1, 'Sandbelt Hotel': 1, 'The Dominion': 1, 'Cowboy Paradise': 1, 'Dorrigo Golf Glub': 1, 'Pleasant Point Hotel': 1, '4017 Bar & Grill': 1, 'Hotel Australia': 1, 'D4': 1, 'Lakers Tavern': 1, 'Pineapple Hotel': 1, 'Pakenham Hotel': 1, 'Wine Bar': 1, 'Quarrymans': 1, 'Players on Lygon': 1, 'The Middle Pub': 1, 'AB Hotel': 1, 'Lowenbrau': 1, 'Air Raid Tavern': 1, 'Molesworth Hotel': 1, 'Macarthur Hotel': 1, 'Tumbaruma Hotel': 1, 'Malanda Hotel': 1, \"P.J. Gallagher's Irish Pub\": 1, 'Bush Shak Brewery': 1, 'Pockets Ball Club': 1, 'Rams Head Hotel': 1, 'Mallanganee Hotel': 1, 'Tradies Caringbah RSL': 1, 'Ballandean Tavern': 1, 'Mount Henry Tavern': 1, 'Hotel Kununurra': 1, 'Star Hotel Motel': 1, 'Paradise Hotel': 1, 'Cosmo Hotel': 1, \"P.J. Gallagher's\": 1, 'Court Hotel': 1, 'Turf': 1, 'All Year Round Tavern': 1, 'Bayview Tavern Hotel': 1, 'Mosman Hotel': 1, 'Topar Hotel': 1, 'Axedale Hotel': 1, 'Karalee on Preston': 1, 'Linville Hotel': 1, 'Shafston Hotel': 1, 'Little Brown Jug': 1, 'Burleigh Heads Hotel': 1, 'Seacliff Beach Hotel': 1, 'Oxford Tavern': 1, 'Bluestone Room': 1, 'Ceduna Foreshore Hotel Motel': 1, 'Macquarie Arms Hotel 1815': 1, 'Tallangatta Hotel': 1, 'Broken Hill Hotel': 1, 'Imperial Tavern': 1, 'Historic Como Hotel': 1, \"Blackburn's Family Hotel\": 1, 'Weileys Hotel': 1, 'Golden Dog Hotel': 1, \"The Sportsman's Hall\": 1, 'Leo Hotel Motel': 1, 'Drive through Off Licence': 1, 'Matakana Village Pub': 1, 'Jamestown Hotel': 1, 'Cromwell Brew House': 1, 'The Globe': 1, 'Rathdowne Tavern': 1, 'The Livingstone Hotel': 1, 'Wickliffe Hotel': 1, 'Croydon Park Hotel': 1, 'South Seas Club': 1, 'Halls Gap Hotel': 1, 'Mount Street Terrace Hotel': 1, 'Tooleybuc Hotel': 1, \"Woody's Bar&Grill\": 1, 'Belrose Hotel': 1, \"Ned's Place\": 1, 'Bassendean Hotel': 1, 'Murphys Creek Taven': 1, 'Travellers Inn': 1, 'Commercial Club Hotel': 1, 'Royal Exchange Hotel': 1, 'The Telegraph Hotel': 1, 'Flannigans': 1, 'Apple Tree Creek Hotel': 1, 'Kalimna Hotel-Motel': 1, 'Robinvale Hotel': 1, 'Namoi Hotel': 1, 'Hawks Nest Golf Club Bistro': 1, 'Rose and Thistle Tavern': 1, 'The Montague Hotel': 1, 'Hotel Jennings': 1, 'Grand Junction Tavern': 1, 'Malones Tavern': 1, 'Grey Lynn Tavern': 1, 'Degree': 1, 'Brisbane Brewing Co': 1, 'Bradford Hotel': 1, 'Left Bank': 1, 'German Club Adelaide': 1, 'Excelsior Hotel': 1, 'Nomad': 1, \"McMorrissey's Irish Pub\": 1, \"JJ Murphy's\": 1, \"Fitzy's\": 1, 'Old Bar Tavern': 1, \"Mr B's Hotel\": 1, 'Boorhaman Hotel': 1, 'Bangor Tavern': 1, 'Hats and Tatts': 1, 'Dockside Tavern': 1, 'The Jandal Bar': 1, 'The Crafers Hotel': 1, 'Sportsman Hotel': 1, 'Toogoolawah Hotel': 1, 'Talbot Hotel': 1, 'Toolleen Hotel': 1, 'Clermont Hotel Motel': 1, 'Bangalore Polo Club': 1, 'Belair Hotel': 1, 'Mosgiel Tavern': 1, 'The Beer Farm': 1, 'Fat Boys Tavern': 1, 'Red Fox Tavern': 1, \"Simon's Tavern\": 1, 'Roxburgh Park Hotel': 1, 'Melbourne Central Hotel': 1, 'Kyabram Hotel': 1, 'The Jam': 1, 'Dudley Hotel': 1, 'Kings Park Tavern': 1, 'St Andrews Pub': 1, 'Rocklea Hotel': 1, 'Arthur Street Bar & Grill': 1, 'The Abbey Bar and Kitchen': 1, 'Harbour Road Tavern': 1, 'Maroochydore Tavern': 1, 'Main Bar': 1, 'Handle Bar': 1, 'Kaipara Tavern': 1, 'Turf Bar': 1, 'Eastern Station Hotel': 1, 'Prince Mark': 1, 'Hertiage Wines': 1, 'Hotel Marlin': 1, \"Rosie O'Gradys\": 1, \"Hogan's Hotel\": 1, 'Daylesford Hotel': 1, 'The Bombay Bicycle Club': 1, 'Blyth Hotel': 1, 'hibernian hotel': 1, 'Bay 66': 1, 'Collarenebri Bowling Club': 1, 'Ettrick Tavern': 1, 'Baxter Tavern': 1, \"O'Sheas Hotel Motel\": 1, 'Race Course Motel': 1, 'Dunalley Hotel': 1, 'Seven stars hotel': 1, 'The Colonial Tavern': 1, 'Hotel Risdon': 1, 'Middleton Tavern': 1, 'Lonestar Pub': 1, 'Long Neck': 1, 'Bar Centrale': 1, 'Ye Olde English Inn': 1, 'Crescent Hotel': 1, 'X-Wray Cafe': 1, 'Mintabie Pub': 1, 'Railway Tavern': 1, 'Altona RSL': 1, 'Peacock Inn Hotel': 1, 'The Alfred Hotel': 1, 'The Prince of Wales Hotel': 1, 'Logan Diggers (Logan and District Services Club)': 1, 'Glenferrie Hotel': 1, 'Kurrajong Heights Hotel': 1, 'Hopetoun Community Hotel': 1, 'Agincourt': 1, 'Grays Inn': 1, 'Warrego Hotel Motel': 1, 'Seabreeze Tavern': 1, 'Mt Mary Hotel': 1, 'The Bat & Ball Hotel': 1, 'Paterson Pub': 1, 'Pyrmont Bridge Hotel': 1, 'Headquarters': 1, \"Dicey Riley's\": 1, 'Vaucluse Hotel': 1, 'Belvedere Hotel': 1, 'The Unicorn': 1, 'The Garry Owen Hotel': 1, 'The Bottom End': 1, 'Castle Hill Tavern': 1, 'Wilsons Hotel': 1, 'The Winston': 1, 'Dargo River Inn': 1, \"Maloney's Hotel\": 1, 'Boggy Creek Hotel (Sportsmans Arms)': 1, 'Anakie Gemfields Hotel Motel': 1, 'London': 1, 'Woodbridge Hotel': 1, 'Portland Public House': 1, 'Hotel Wallangarra': 1, 'Beckom Hotel': 1, 'Bemboka Hotel': 1, 'Longyard Hotel': 1, 'Grand Boulevard Tavern': 1, \"Murphy's Inn\": 1, 'Brouhaha Brewery and Restaurant': 1, 'Delegate Hotel': 1, 'Mount Brewing Co': 1, 'Garden Bar': 1, 'Warrego Hotel': 1, 'OG Hotel': 1, 'Tryphena Social Club': 1, 'Wenty Hotel': 1, 'Newmarket': 1, '46 & York': 1, 'Tatts Hotel': 1, 'RSL club': 1, 'Morrison Hotel': 1, 'The Fleece Hotel': 1, 'Pipers Inn': 1, 'Karuah & District RSL Club': 1, 'Whitsunday Hotel': 1, 'Middle Park Hotel': 1, 'Fairfield Hotel': 1, 'Hotel Beatty': 1, 'Golden Spurs Hotel': 1, 'Three Degrees': 1, 'The Craftsman': 1, 'Newtown Social Club': 1, 'Overlander Tavern': 1, 'Mulga Creek Hotel': 1, 'Plantation Hotel': 1, 'Gift Hotel': 1, 'Maryland Tavern': 1, 'Beer De Luxe': 1, 'Maidenwell Hotel': 1, 'Lakes Resort Hotel': 1, 'Bull Creek Tavern': 1, 'Homebush Hotel': 1, 'Rangitikei Tavern': 1, 'Moonambel Pub': 1, 'Pig and Whistle Tavern': 1, 'Kirkstall Hotel': 1, 'Parafield Gardens Community Club': 1, 'Hurstville RSL Club': 1, 'Miners Arms Hotel': 1, 'Templestowe Hotel': 1, 'The Coolangatta Hotel': 1, 'The Strathmore': 1, 'Bilambil Cellars': 1, 'Bruny Island Hotel': 1, 'West End Hotel': 1, 'Hotel': 1, 'Amaroo Hotel': 1, 'Lynchs Hotel': 1, 'Linga Longa Inn': 1, 'Turf Club Hotel': 1, 'Mingela Hotel': 1, 'Opononi Hotel': 1, 'Bedford': 1, 'Wanderers Bar': 1, 'Club Macquarie': 1, 'Clare Castle Hotel': 1, 'Richmond Inn': 1, 'Rosemont Hotel': 1, \"Gulliver's Tavern\": 1, \"John's River Tavern\": 1, 'Sweetwater Brewery': 1, 'Golden Crown Hotel': 1, \"P. J. O'Reilly's\": 1, 'Geebung RSL': 1, 'Claremont Hotel': 1, 'Pemberton Hotel': 1, 'Greta Valley Tavern': 1, 'Hakou': 1, 'The Rose Shamrock': 1, 'Bath Arms Hotel': 1, \"Ruby L'otel\": 1, 'The Windsor Castle Hotel': 1, 'Yangan Hotel - Motel': 1, 'Fitzys Waterford': 1, 'Criterion': 1, 'Bristol Arms': 1, 'The Feathers Hotel': 1, 'Leuven Belgian Beer Cafe': 1, 'Mayfair Ridge Tavern': 1, 'Crook & Flail': 1, 'Transit Tavern': 1, 'Insignia on Flinders': 1, 'Aldgate Pump Hotel': 1, 'Longhorn Saloon': 1, 'The Korner Bar': 1, 'Dava Hotel': 1, 'Covent Garden': 1, 'Coolah Bowling Club': 1, 'Longley International Hotel': 1, 'Blacksmith Inn': 1, 'Riverland': 1, 'Inn Bar': 1, 'Chelsea Heights Hotel': 1, 'The Commercial Hotel': 1, 'Right Track Sports Cafe': 1, 'Dartmoor Hotel/Motel': 1, 'Gymea Hotel': 1, 'North Taieri Tavern': 1, 'CBX Hotel': 1, 'Hampton Halfway Hotel': 1, 'Feluga Pub': 1, 'Juice Bar': 1, 'Westbrook Tavern': 1, 'BIllabong Hotel': 1, 'Binnaway Golf Club': 1, \"Bill's Bar and Bites\": 1, 'Rose of Australia': 1, 'Leighoak': 1, 'Captain Cook Hotel': 1, 'Crossways Historic Country Inn': 1, 'Burwood Hotel': 1, 'The Clarendon Hotel': 1, 'Red Lion Hotel': 1, 'Noble Park RSL': 1, 'Lord Newry Hotel': 1, 'Windsor Hotel': 1, 'Currumbin Creek Tavern': 1, 'The Cove Tavern': 1, 'World Square Pub': 1, 'Bluff Hotel': 1, 'McKenzies Hotel': 1, 'Black Bull': 1, 'Ryde Ex-Services Club': 1, 'Greendale Pub': 1, 'Herbert Hotel': 1, 'Harp & Fiddle': 1, 'Northern Club Lautoka': 1, 'Swansea Hotel': 1, 'Birchip Hotel': 1, 'The Tin Hut': 1, 'TAB': 1, 'The Eveleigh': 1, 'Post Office Hotel Motel': 1, 'Sundowner Hotel Motel': 1, 'Cabramatta Hotel': 1, 'The Martinborough Hotel': 1, 'Bingara Sporting Club': 1, 'North Eastern Hotel': 1, 'Elephant Hotel': 1, 'Katherine Club Inc.': 1, 'Cottesloe Beach Hotel': 1, 'Seaview Hotel': 1, 'The Strathmore Local': 1, 'Great Northern Hotel': 1, 'Salt': 1, 'Benambra Hotel': 1, 'Anglesea Pub': 1, 'Te Kauwhata Trust Tavern': 1, 'Mamre Hotel': 1, 'Mordialloc Sporting Club': 1, 'Oaken': 1, 'Manning River Hotel': 1, 'Brightview Tavern': 1, 'Mile End Hotel': 1, 'Avenel Hotel': 1, 'The Oak Tree Tavern': 1, 'West Illawarra Leagues': 1, 'Ascot Vale Hotel': 1, 'Town View Hotel': 1, 'The Grapes Hotel': 1, 'The Playhouse': 1, 'Capricorn Hotel': 1, \"Kelly's\": 1, 'Merrimac Tavern': 1, 'The Glen Hotel': 1, 'Commercial Hotel-Motel': 1, 'The Historic Rosevale Retreat Hotel': 1, 'Northern Rivers Hotel': 1, 'Bonnie Doon Hotel': 1, 'The Surrey Pub': 1, 'The Green Roof': 1, 'Buckleys Crossing Hotel': 1, 'Workingmens Club': 1, \"Red's Tavern\": 1, 'Jamieson Brewery': 1, 'Farmers Arms Hotel': 1, 'Butlers Reef': 1, 'Barbs': 1, 'Barrel Inn': 1, 'Ridge Hotel': 1, 'Kohatu Hotel': 1, \"The Hunter's Tryst\": 1, 'The Belmont': 1, 'Pacific Hotel': 1, 'Kookaburra Bar & Bistro': 1, 'The Shaw Davey Slum': 1, 'Rosedale Hotel': 1, 'Toby Jug': 1, 'Hillcrest Tavern': 1, 'Tenterfield Tavern': 1, 'Doncaster Inn': 1, 'The Imperial Hotel': 1, 'Kyalite Pub': 1, 'Dapto Leagues Club': 1, 'Gresford Bowling Club': 1, 'Mountbatten Hotel': 1, 'The Lewisham Hotel': 1, 'Blue Duck Hotel': 1, 'Lighthouse': 1, 'The Kalamunda Hotel': 1, 'The Waihou Tavern': 1, 'Bealey Hotel': 1, 'Vineyard Hotel': 1, 'Durham Castle Arms': 1, 'Stone Hotel': 1, 'The Yarrawonga Hotel': 1, 'Charleston Hotel': 1, 'Elevate Bar & Restaurant': 1, 'South Eastern Hotel': 1, 'Dajarra Hotel': 1, 'Catchment': 1, 'Brighton le Sands RSL Club': 1, 'Diggers RSL': 1, 'Jolly Frog Family Hotel': 1, 'Club Five Dock': 1, 'The Orchard Tavern': 1, 'Public House': 1, 'West Melton Hotel': 1, 'Dayboro Bowls Club': 1, 'Loddon Bridge Hotel': 1, 'Hotel Baradine': 1, \"O'Sullivan's Pub\": 1, \"Club House de l'Olympique\": 1, 'Glenelg Inn Hotel': 1, 'The Corner Pub': 1, 'Springdale Heights Tavern': 1, 'Eskdale Hotel': 1, \"Edgar's\": 1, 'T-Bone Brewing Co.': 1, 'The Quadrant': 1, 'Jundah Hotel': 1, 'Charlie Chan': 1, 'Lord Raglan Hotel': 1, 'Club Kilsyth': 1, 'Kawhia Sports Club': 1, 'Charles Dickens Tavern': 1, 'Mt. Magnet Hotel': 1, 'The Burbridge Tavern': 1, 'Oxley Tavern': 1, 'The Leap Hotel': 1, 'Applejacks': 1, 'Young&main': 1, 'St Kilda Hotel': 1, 'The Royal Exchange': 1, 'Cann River Hotel': 1, 'Club Noble': 1, \"Kelly's Irish Pub\": 1, 'Boyles Hotel': 1, 'Lord Kitchener': 1, 'Waipara Hotel': 1, 'Glasgow Arms Hotel': 1, 'Alehouse': 1, 'The Central': 1, 'Uni Pub': 1, 'The Oaks': 1, 'Grenfell 110': 1, 'Bellarine Estate': 1, 'RSL & Sale Club': 1, 'Stumble Inn': 1, 'Federal Palace Hotel': 1, 'Fiddlers Green': 1, 'Kaleen Bar and Bistro': 1, 'The Settlement at Cranbourne': 1, \"O'Flynn's\": 1, 'Kawhia Golf Club': 1, 'Hamilton Hotel': 1, 'The Shaft Tavern': 1, 'Litchfield Tavern': 1, 'Papatoetoe Clubrooms': 1, \"Monte's\": 1, 'Great Northern': 1, 'Coonamble RSL Club': 1, \"Former O'Malle's Pub (closed)\": 1, 'Yebisu Izakaya': 1, 'Farview Tavern & Motel': 1, 'Burpengary Tavern': 1, 'Mount Moliagul Hotel': 1, 'Allenstown Hotel': 1, 'Crest Hotel': 1, 'That Little Brewery (Located in this estate 24)': 1, 'Innisfail RSL': 1, 'Newmarket Tavern': 1, 'Grovedale Hotel': 1, 'Theatre Royal Hotel': 1, \"Danny Doolan's\": 1, 'The Dunkirk': 1, 'East Village Hotel Balmain': 1, 'Charming Creek Tavern': 1, 'Iron Clad Hotel': 1, 'Colliery Inn': 1, 'Caringbah Lawn Bowling Club': 1, 'The Jolly Potter': 1, 'Yarck Hotel': 1, 'Blackburn Hotel': 1, 'Windeyer Hotel': 1, 'Harvest Home Hotel': 1, 'Mornington Peninsula Brewery': 1, 'Flagstaff Sports Cafe': 1, 'Northstar Hotel': 1, 'Menzies Tavern': 1, 'Mediterranean Taverna': 1, 'Hotel Max': 1, 'Four Pillars Gin': 1, 'Prickly Moses': 1, 'Wild Bull Brewery': 1, 'The Roundabout Pub': 1, 'Australian hotel': 1, \"Percy's Bar\": 1, 'Valhallaz Tavern': 1, 'Salty Dog Sports Bar': 1, 'South Kolan Hotel Motel': 1, 'Tumut Bowling Club': 1, 'King River Brewing': 1, 'Clocktower Hotel': 1, 'Gollan Hotel': 1, 'Everton Hotel': 1, 'Prince Of Wales': 1, 'Carlisle Castle': 1, 'Welcome Stranger': 1, 'The Londoner': 1, \"Tradesmen's Union Club\": 1, 'Kilbirnie Tavern': 1, 'The Crescent': 1, 'The Tatts': 1, 'Moby Dicks Tavern': 1, 'Malt': 1, 'Burren Junction RSL Club': 1, 'Sunshine City Club': 1, 'Charcoal Inn': 1, 'Conargo Hotel': 1, 'Mama bear': 1, 'The Flinders': 1, 'Club on East': 1, 'Watermark Glenelg': 1, 'Robert Burns Hotel': 1, 'Auburn Hotel': 1, 'Kauri Foreshore Hotel': 1, 'Tollgate Hotel': 1, 'The Thirsty Camel': 1, 'Spotted Cow': 1, 'Riverside Tavern': 1, 'Landmark Hotel': 1, 'Glen Maggie Bar': 1, 'Glamorgan Vale Hotel': 1, 'Sprig & Fern Tavern': 1, 'Manly Wharf Hotel': 1, 'Hotel HQ': 1, 'Pioneer Hotel': 1, 'Round Two': 1, 'St George Hotel': 1, 'Wilga Hotel': 1, \"Bridie O'Reilly's\": 1, '1876': 1, 'Stonewall Hotel': 1, 'Dorset Gardens Hotel': 1, 'Kuranda Hotel': 1, \"Hamer's Hotel\": 1, 'George Lane Bar': 1, 'Supreme Court Hotel': 1, \"Heyward's Royal Oak Hotel\": 1, 'Still Working Bar': 1, 'Bentleigh RSL': 1, 'Mc Adams Gap Hotel': 1, 'Robarta': 1, 'Parkview Hotel': 1, 'Springlands Tavern': 1, \"Father Ted's\": 1, 'Doyles Bridge Hotel': 1, 'Longueville Hotel': 1, 'Hotel Tasmania': 1, \"Toot 'n Whistle Inn\": 1, 'Mitchell Inn': 1, 'Catlins Inn': 1, 'Commercial Family Pub': 1, 'Interstate Hotel': 1, 'Delacys': 1, 'Ronsard Bay Tavern': 1, \"Mo's\": 1, 'Dorrigo Bowling Club': 1, 'Hotel Kew': 1, 'Angus Inn Bar': 1, 'The Barking Dog': 1, 'Lenin': 1, 'Erskineville Hotel': 1, 'James Place Hotel': 1, 'Woodbourne Tavern': 1, 'George IV': 1, 'The Sherlock Holmes': 1, 'Grand Hotel Kiama': 1, \"Charlotte's Bar and Bistro\": 1, 'Bouldercombe Pub': 1, 'Sefton Playhhouse': 1, 'Galaxy Hotel': 1, 'Whangamomona Tavern': 1, \"Dolly's Bar\": 1, 'Murrumba Downs Tavern': 1, 'Willunga Hotel': 1, 'Hebel Hotel': 1, 'The Principal': 1, 'Star Bar': 1, 'The Star Of The West': 1, 'Lalor Park Hotel': 1, 'Mariners Waterfront Hotel': 1, 'The Evelyn Hotel': 1, \"Tanswell's Commercial Hotel\": 1, 'M J Finnegans': 1, 'Club': 1, 'The Jockey Club': 1, 'Elwick Hotel': 1, 'Three Swallows Hotel': 1, 'Julia Creek Hotel Motel': 1, 'Hotel Augusta': 1, 'Bellbird Hotel': 1, 'Pot Belly': 1, \"Kelly's on King\": 1, 'Hotel William': 1, 'Alpine Village Inn': 1, 'Yamanto Tavern': 1, 'Mount Gambier Hotel': 1, 'Doctor Syntax': 1, 'Burrum Heads Hotel': 1, 'Sussex Hotel': 1, 'North Lakes Tavern': 1, 'Dove and Olive': 1, 'Glasshouse Hotel': 1, 'Keysborough Hotel': 1, 'Vault Hotel': 1, 'Tungkillo Hotel': 1, 'Brandon Hotel': 1, 'West Kempsey Hotel': 1, 'Easy Tiger': 1, 'Queens Wharfe Hotel': 1, 'Sharkies Leagues Club': 1, 'The Lifeboat': 1, 'The Mountain Rocks': 1, 'Family Inn': 1, 'El Loco': 1, 'Nelson Hotel': 1, 'South Dubbo Tavern': 1, 'Hotel Lincoln': 1, 'Squires': 1, 'Esk Grand Hotel': 1, 'Balingup Tavern': 1, 'The Edinburgh Castle': 1, 'Bar Broadway': 1, 'The Stables': 1, 'Jemmy Moss Inn': 1, 'Mornington Hotel': 1, 'Bernborough Tavern': 1, 'Sellers': 1, 'Derwent Tavern': 1, 'Jamieson Courthouse Hotel': 1, 'Sunnyhill Hotel': 1, 'Paddington Inn': 1, 'Clocks at Flinders': 1, 'Patriot': 1, 'Jacaranda Hotel': 1, 'Builders Arms Hotel': 1, 'Lawson Park Hotel': 1, 'Millers Inn': 1, 'Hotel Nichloas': 1, 'Injune Hotel': 1, 'Nabiac Hotel': 1, 'Marquis of Lorne': 1, 'Lismore Workers Club': 1, 'Beldon Tavern': 1, 'Hotel Carlton': 1, 'Saloon Saloon': 1, 'Kempton Tavern': 1, 'Rainbow Beach Hotel': 1, 'Fish Bar': 1, 'Commonwealth Hotel': 1, 'Kirbys Back Bar': 1, 'Kings Cross Hotel': 1, 'Campsie RSL': 1, 'Brown Hill Hotel': 1, \"Speight's Ale House\": 1, 'Alloway Country Club': 1, 'Krambach Hotel': 1, \"The Speight's Ale House\": 1, 'The Occidental': 1, 'Salisbury Hotel Motel': 1, 'Woolooga Hotel': 1, 'Merbein Hotel': 1, 'The Balmain': 1, 'Kings Head Tavern': 1, 'Tooradin & District Sports Club': 1, 'Naracoorte Hotel - Motel': 1, 'Bar 162': 1, 'Gunalda Hotel': 1, 'The Salisbury Hotel': 1, 'Hotel Indooroopilly': 1, 'Riversdale Hotel': 1, 'Bowenville Hotel': 1, 'The Ranch': 1, 'Donnybrook Royal Hotel': 1, 'Blenheim Inn': 1, 'Rushworth Hotel': 1, 'Pascoe Vale Hotel': 1, 'Union Hotel Motel': 1, 'Andrew Andrew': 1, 'Darling Range Pub': 1, 'Somerset Pub': 1, 'The Kings': 1, 'Braybrook Hotel': 1, 'Quinkan Hotel': 1, 'Junction City Hotel': 1, 'Broad Arrow Tavern': 1, 'Canterbury Hotel (Brown Pub)': 1, 'Grange Hotel': 1, 'The Aussie Hotel Motel': 1, 'Union Club Hotel': 1, 'The Kenmore': 1, 'BHAS Clubrooms': 1, 'Buckingham Arms Hotel': 1, 'The Grove Town Tavern': 1, 'Wilmington Hotel': 1, 'Beerwah Hotel': 1, 'Historic Mangonui Hotel': 1, 'Woollahra Hotel': 1, 'Quamby Hotel': 1, 'Scenic Hotel': 1, 'The Generous Squire': 1, 'Warners Bay Hotel': 1, \"Mary G's\": 1, 'The Bunker': 1, 'Sailors Grave Brewing': 1, \"Bridie O'Reilly's Irish Pub\": 1, 'Tathra Hotel': 1, 'Frankies sportsbars': 1, 'Four Aces': 1, 'The Talbot Hotel': 1, 'Half Moon': 1, 'Caluzzi Bar and Cabaret': 1, 'Broadway Hotel': 1, 'Kurri Kurri Hotel': 1, 'Club Hotel Garah': 1, 'Historian Hotel': 1, 'Cow and Calf Hotel': 1, 'Prince Albert': 1, 'The Tav': 1, 'Marburg Hotel': 1, 'Prince Albert Hotel': 1, 'The Pukemanu': 1, 'Regent Hotel': 1, 'Lake Macquarie Hotel Motel': 1, \"The Postman's Leg\": 1, \"Seamus O'Toole's\": 1, 'The Ivy Lounge Bar': 1, 'The Fox': 1, 'Pannawonica Sporting club': 1, 'Albion Place Hotel': 1, 'Cooroy Hotel': 1, 'Kentish Arms': 1, 'Mirrool Royal Hotel': 1, 'Hiberian Hotel': 1, 'Torrens Arms Hotel': 1, \"Vulture's Lane\": 1, 'Currajah Hotel': 1, 'The Dubliner': 1, 'St Hotel': 1, 'Vulcan Hotel': 1, 'Royal Cassilis Hotel': 1, \"Tree's Tavern Restaurant and Bar\": 1, 'Randalls': 1, 'Saltwater Creek Hotel': 1, \"O'Aces Club\": 1, 'Corroboree Park Tavern': 1, 'Skinny Dog Hotel': 1, 'Colyton Hotel': 1, 'Lynbrook Hotel Sportsbar': 1, 'Heavitree Gap Tavern': 1, 'Cherry Bar': 1, 'St Johns Bar': 1, 'The Pinnacle': 1, 'Goolwa Hotel': 1, 'Anglers Arms Tavern': 1, 'Greenhouse Tavern': 1, 'Last Drop': 1, 'Gellibrand Hotel': 1, 'Helensburgh Workers Club': 1, 'Goondi Hill Hotel': 1, 'Roches Family Hotel': 1, 'The Wharf Hotel': 1, 'Mulgowie Hotel': 1, 'The Sackville': 1, \"Cooper's Alehouse\": 1, 'Kalkallo Hotel': 1, 'The Vine Hotel': 1, 'City Diggers Wollongong': 1, 'Ranfurly Hotel': 1, 'Edinburgh Castle Hotel': 1, 'Locos Kitchen & Bar': 1, 'Hotel Hollywood': 1, 'London Tavern Hotel': 1, 'Brisbane Hotel': 1, 'Lindenow Pub': 1, 'Barmah Hotel': 1, 'Spring Hill Hotel': 1, 'Avondale Hotel': 1, 'The Moorebank Hotel': 1, 'Lincolnshire Arms Hotel': 1, 'The Albany': 1, 'Ettalong Diggers': 1, 'Midtown Hotel': 1, 'Tingora Hotel': 1, 'Advancetown Hotel': 1, 'Cobden Hotel': 1, 'The Famous Grouse': 1, \"Galbraith's Alehouse\": 1, 'Gundagai Bowling Club': 1, 'The Woolshed': 1, 'The Matua': 1, 'Riverview Tavern': 1, 'The Swan Hotel': 1, 'Broadford Hotel': 1, 'Dulacca Hotel': 1, 'Rochester Castle Hotel': 1, 'Jardine Motel': 1, 'Trentham Hotel': 1, 'Wayward Brewery': 1, 'Avonhead tavern': 1, 'The Top Pub': 1, 'Quinninup Tavern': 1, 'Tabulam Hotel': 1, 'Sofala Hotel': 1, 'The Gem': 1, u'Grace O\\u2018Malley\\u2018s': 1, 'Central Club Hotel': 1, 'Crown on McCredie': 1, 'Victoria Hotel-Motel': 1, 'Gilbert Street Hotel': 1, 'George Harcourt Inn': 1, 'Fotheringhams Hotel': 1, 'New Hotel Coolamon': 1, 'Showmans Club': 1, 'Rob Roy Hotel': 1, 'The Duke of Wellington': 1, 'Samson Beach Tavern': 1, 'Sandbar': 1, 'Whitehorse Tavern': 1, 'Junction Beer Hall & Wine Room': 1, 'Hale Road Tavern': 1, 'The Kings Own': 1, 'Glenroy Hotel': 1, 'Currach': 1, 'Lake Wallace Hotel': 1, 'Tenthill Hotel': 1, 'Beauchamp Hotel': 1, 'Graman Hotel': 1, 'Jerrabomberra Hotel': 1, 'Varsity Lakes Tavern': 1, 'Stansbury Hotel': 1, 'Keighery Hotel': 1, 'Chelmsford Hotel': 1, 'Gertrude Hotel': 1, 'Fernvale Hotel': 1, 'Pig & Whistle Bar & Bistro': 1, 'Scary Canary': 1, 'Hotel Queanbeyan': 1, 'Eatons Hill Hotel': 1, 'Orange Grove Hotel': 1, 'Coolibah Hotel': 1, 'Yea Peppercorn Hotel': 1, 'Alpine Retreat Hotel': 1, 'The Crown Bar': 1, 'Pottsville tavern': 1, 'Good Union': 1, 'Gemini Bar': 1, 'The Rose': 1, 'Southwark Hotel': 1, 'Nag & Noggin Bar': 1, 'Crocodile Farm Hotel': 1, 'Birdsville Hotel': 1, 'Sauce': 1, 'Oxford 152': 1, \"Rafferty's Tavern\": 1, 'The Blue Duck Inn': 1, 'Fifield Hotel': 1, 'Walkers Arms Hotel': 1, 'The Albion': 1, 'Hop Temple': 1, 'Northbridge Brewing Company': 1, 'Golden Fleece Hotel': 1, 'GT Bar': 1, 'West Side Tavern': 1, 'The Three Borthers Arms': 1, 'Kawhia Hotel': 1, 'Russell Tavern': 1, 'Kinross Wool Shed': 1, 'Burnside Tavern': 1, 'Mirani Hotel': 1, 'Comet River Hotel': 1, 'Australian Heritage Hotel': 1, 'Koorawatha Hotel': 1, 'Humdinger': 1, 'Woodford Pub': 1, 'Willie the boatman': 1, 'Redcliffe Tavern': 1, 'Huntsbury Hotel': 1, 'The Wickham': 1, 'Sleepy Lagoon': 1, 'Carrollee Hotel': 1, 'Griffins Head Hotel': 1, 'The Whalers Hotel': 1, 'Sky Tavern': 1, 'Wood Duck Inn': 1, 'The Mill Inn': 1, 'Hotel Carmila': 1, 'Central Hotel Beaconsfield': 1, 'New Bay Hotel': 1, 'The Lodge of Dundee': 1, 'Rutland Arms Inn': 1, 'Nakamal': 1, 'Guildford Family Hotel': 1, 'Attunga Hotel': 1, 'The Husky Pub': 1, 'Nags Head Hotel': 1, 'The Old Fitzroy Hotel': 1, 'Jamberoo Hotel': 1, 'Bimbo Deluxe': 1, 'Gables Kitchen and Bar': 1, 'Meridian': 1, 'Metung Hotel': 1, 'Wenty Leagues Club': 1, 'Observer Hotel': 1, 'Warilla Hotel': 1, 'All Nations Hotel': 1, 'Great Southern Hotel': 1, 'Isis Club': 1, 'The Alberton Hotel': 1, 'Hope & Anchor Tavern': 1, 'Royal Hotel Mendooran': 1, 'Monash Hotel': 1, 'Zierholz@UC': 1, 'Loxton Hotel': 1, 'Greenwood Hotel': 1, \"Molly's Sports Bar\": 1, 'Pint on Punt': 1, 'Black Stump Inn': 1, 'Scots': 1, 'Norman Hotel': 1, 'Navy Club': 1, 'Hotel Stanthorpe': 1, 'Melbourne Bar & Bistro': 1, 'Burnett Hotel': 1, 'Amberley Hotel': 1, 'Unanderra Hotel': 1, 'Inlet Hotel': 1, 'Salty Dog': 1, 'Punt Hotel': 1, 'Kingsley Tavern': 1, 'Hotel Gearin': 1, 'Bush Inn Tavern': 1, 'Unity Hall': 1, 'The Union Jack': 1, 'Sterling Tavern': 1, 'Portarlington Pub': 1, 'Swan Hotel': 1, 'Grandchester Hotel': 1, 'Grassy Club': 1, '2nd & 6th': 1, 'Farside': 1, 'Sportsman Tavern': 1, 'Splash bar': 1, 'Cheeky Peak Brewery': 1, 'The Cavalier': 1, 'Donnybrook Hotel': 1, 'West leagues club': 1, 'Tall Timbers Hotel': 1, 'Barraba RSL Club': 1, 'The Courthouse Hotel': 1, 'Burwood RSL': 1, 'Pocha': 1, 'Hampshire Hotel': 1, 'The Coach House': 1, 'Muswellbrook Hotel': 1, 'Gracemere Hotel': 1, 'The Green Man': 1, 'Fin McCools': 1, \"Daisey's Hotel\": 1, 'Tuggeranong Valley Leagues Club (Buffalos)': 1, 'Golden Orange Hotel - Motel': 1, 'Caves Beach Surf Life Saving Club': 1, \"CY O'Connor Village Pub\": 1, 'Joe MacGuires': 1, 'Jindera Hotel and Motel': 1, 'Warburton RSL': 1, \"Cricketer's Arms Hotel\": 1, 'Horse & Jockey': 1, 'Woolloongabba Hotel': 1, 'Prince Patrick Hotel': 1, 'Old pub': 1, 'Workers Club': 1, 'Sorrento Hotel': 1, 'Craignish Country Club Hotel': 1, 'St Marys Hotel': 1, 'Kevington Hotel': 1, 'Cardinia Park Hotel': 1, 'Coronation Hotel': 1, 'Greystanes Hotel': 1, 'Albany Creek Tavern': 1, 'Three Rivers Hotel': 1, \"Lass O'Gowrie\": 1, 'The Centennial Hotel': 1, 'The Mill Hill Hotel': 1, 'Swinging Pig': 1, 'Laik': 1, 'Hotel SOHO': 1, 'Reef': 1, 'Avoca Hotel': 1, 'Craigie Tavern': 1, 'Kogan Hotel': 1, 'Nortons on Norton Hotel': 1, 'Roulettes Tavern': 1, \"Tinbilly's Travellers Bar\": 1, 'Temple Brewery': 1, 'Crofters Pub': 1, 'Karara Hotel Motel': 1, 'Wandi Pub': 1, 'Frederics': 1, 'Homestead Hotel': 1, 'The Wakefield Hotel': 1, 'Doncaster Hotel': 1, 'CBK': 1, 'Milestone Hotel': 1, 'Dick Whittington Tavern': 1, 'Duxton': 1, 'Inala Hotel': 1, \"King O'Malley's\": 1, 'Regal Hotel': 1, 'Cleveland Sands Hotel': 1, 'Mannahill Hotel': 1, 'Anglers Tavern': 1, 'Mena Creek Hotel': 1, 'Rolleston Hotel Motel': 1, 'The Beach': 1, \"Matty's\": 1, 'Clubhouse Hotel': 1, 'Olympic Hotel': 1, 'Chelsea Hotel': 1, 'Smugglers': 1, 'Anglers Inn Hotel Motel': 1, 'Fairweathers': 1, 'Hotel Tully': 1, 'New Royal Hotel Motel': 1, 'Tuppal Hotel': 1, 'Three Wise Monkeys': 1, 'Gordon hotel': 1, 'Arundel tavern': 1, \"Billy's Bar\": 1, 'Wesley Anne': 1, 'The Royal Leichhardt': 1, 'Wilcannia Club Hotel': 1, 'Kallangur Tavern': 1, 'The Sugar Mill': 1, 'El Taverna': 1, 'Corner Pub': 1, 'The Wy Yung Pub': 1, 'Mail Exchange Hotel': 1, \"PJ O'Brien's\": 1, 'Station Tavern': 1, \"O' Hagan's\": 1, 'Wedderburn Hotel': 1, \"O'Donoghues Irish Pub\": 1, 'Ringwood RSL': 1, 'The Wattle Hotel': 1, 'Oyster Bar': 1, 'Underbool Hotel': 1, 'The Pub with no Beer': 1, 'Cargo Inn': 1, 'Sundowner Hotel': 1, 'Saint & Rogue': 1, 'Pilliga Hotel': 1, 'River Arms Hotel': 1, 'The Crown Hotel': 1, 'Captain Stirling Hotel': 1, 'Pioneer': 1, 'Cunninghams': 1, 'The Commercial Hotel Morpeth': 1, 'Hackney Hotel': 1, 'Gladstone Inn': 1, 'Gowrie Road Hotel': 1, 'Modbury Plaza Hotel': 1, 'The Victoria Hotel': 1, 'Bentspoke': 1, 'The Amble Inn': 1, 'Beach House Bar': 1, 'Public House Petersham': 1, 'Republic Bar & Cafe': 1, 'Barkly Hotel': 1, 'Lobby': 1, 'Springwood Hotel': 1, 'Katherine Hotel': 1, 'Labor in Vain Hotel': 1, \"O'Briens Hotel\": 1, 'Hop Nation': 1, 'The Roadhouse': 1, 'Denmark Tavern': 1, 'Cronulla Golf Club': 1, 'The Coogee Bay Hotel': 1, 'Tara Hotel Motel': 1, 'Coobowie Hotel': 1, 'Spinifex Hotel': 1, 'The Featherston Bar & Grill': 1, 'Duke Of Wellington': 1, 'Batlow RSL Club': 1, 'Cooma Ex-Servicemans Club': 1, 'Coffin Bay Hotel': 1, 'British Hotel': 1, 'Francis Hotel': 1, 'Marina Tavern': 1, 'The Irish Village': 1, 'Wombat Hotel': 1, 'Alroy Tavern': 1, 'Weeroona Hotel': 1, 'Duke of Edinburgh Hotel': 1, 'Five Stags': 1, 'Blue Mountain Hotel': 1, 'Railway Hotel/Motel': 1, 'Cambrian Hotel': 1, 'Kabra Hotel': 1, 'Wangi Workers Club': 1, 'Oasis': 1, 'The Brian Boru Hotel': 1, 'Yarra Hotel': 1, 'The Point': 1, 'Waterfront': 1, 'Red Sands Tavern': 1, 'Ruakura Campus Club': 1, 'James Squire Brewhouse': 1, 'Malfroy Bar': 1, 'Walkabout Hotel': 1, 'Tingha Sports and Recreation Club': 1, \"Gannon's Hotel Motel\": 1, \"Dick's Hotel\": 1, 'Corowa Hotel': 1, 'Bridgewater Inn': 1, 'Strawberry Hills Hotel': 1, 'Bay Central Tavern': 1, 'Bar or Choice': 1, 'Glengala Hotel': 1, 'Hog Heaven': 1, 'Oxford Scholar Hotel': 1, 'Garden Hotel': 1, 'Tankerville': 1, 'The Dandenong Pavilion': 1, 'Wade Hotel': 1, 'Steelers Club': 1, 'Cradock Hotel': 1, 'North Fitzroy Arms': 1, 'Monbulk RSL': 1, 'The Golden Gecko Hotel': 1, 'Coorparoo R.S.L. and Community Club': 1, 'Green Valley Hotel': 1, 'The Peak Pub': 1, 'Marla Bar': 1, 'The Speights Ale House': 1, 'The Oxford Tavern': 1, 'Dapto Hotel': 1, 'The Norfolk On Cleveland': 1, 'Kooringal Hotel': 1, 'Patangata Pub': 1, 'Banora Club': 1, \"The Slug 'n Lettuce\": 1, 'Beach Road Hotel': 1, '2 Brothers Brewery ': 1, 'Tradies': 1, 'Hotel Nest': 1, 'Goulburn Brewery': 1, 'COLONIAL BREWING CO.': 1, 'Lord Alfred Hotel': 1, 'Treetops Tavern': 1, 'Horse & Trap': 1, 'Taupiri Tavern': 1, 'The Playhouse Hotel': 1, 'Wallacia Hotel': 1, 'Fountain Gate Hotel': 1, 'Mount Bryan Hotel': 1, 'Waterfront Cafe & Bar': 1, 'Bar on the Hill': 1, 'Adelaide Hotel': 1, 'William Farrer Hotel': 1, 'MIddleton Hotel': 1, 'Cherry Hill Tavern': 1, 'Boulders Tavern': 1, 'Lake Mulwala Hotel & Motel': 1, 'Royal Derby Hotel': 1, 'Margate Tavern': 1, u'Thirsty Dog Tavern & Caf\\xe9': 1, 'The Beach House': 1, 'Pioneer Valley Hotel Motel': 1, 'Strike Bowling Sports Bar': 1, 'Blaxland Tavern': 1, 'Fraser Tavern': 1, 'The Cauliflower Hotel': 1, 'Mozzarella Bar': 1, 'Bark Hut Inn': 1, 'Moeraki Tavern': 1, \"Mr Tipley's\": 1, 'Tinamba Hotel': 1, 'Mendooran Bowling Club': 1, \"Parer's Hotel\": 1, 'Lucky Lizard': 1, 'Kyneton Hotel': 1, 'Keppel Sands Hotel': 1, 'Queen Victoria Hotel': 1, 'Hotel Criterion': 1, \"Waxy O'Shea's\": 1, \"L'Academie Hotel\": 1, 'Kingslander': 1, 'Peach& Porker': 1, 'The Delany': 1, 'Hideaway Hotel': 1, 'The Puketapu': 1, 'Koo Wee Rup Pub': 1, 'Bearded Dragon': 1, 'Royal Sheaf Hotel': 1, 'Bar 159': 1, 'Vicar of Wakefield': 1, 'Mad Dogs and Englishmen': 1, 'Harrington Hotel': 1, 'Whiritoa Surf Life Saving Club': 1, 'Club Monopoly': 1, 'Berwick Inn Hotel': 1, \"Seumus's Irish Bar\": 1, 'Hustle & Flow': 1, 'The Caves Pub': 1, 'Marnoo Hotel': 1, 'Locomotive Hotel': 1, 'Robina Tavern': 1, 'Golden Grove Tavern': 1, \"OJO's\": 1, 'Port Anchor Hotel': 1, 'The Basement on Broadway': 1, 'Buxton Hotel': 1, 'Esperance Hotel': 1, 'Hotel Granya': 1, 'Waikare pub': 1, 'The Dockyard': 1, 'Portobello Hotel': 1, 'Manilla RSL': 1, 'Sunnyside Tavern': 1, 'Cheers Bar': 1, 'Coomera Lodge Hotel': 1, 'Jubilee Hotel': 1, 'The Lemon Grove': 1, 'Stoned Crow Broadway': 1, 'Banjo Paterson Inn': 1, 'Central Park Tavern': 1, 'Illawarra Yacht Club': 1, 'Daintree Inn': 1, 'The Bellingen Brewery & Co.': 1, 'The Old Growler': 1, 'Queenscliffe Family Hotel': 1, 'The Honest Lawyer': 1, 'Dog & Bull Hotel Motel': 1, 'Kenilworth Hotel': 1, 'Two Birds Brewing': 1, 'The Royal Exhibition Hotel': 1, 'The Embankment': 1, 'The Spotted Mallard': 1, 'Crystal Palace Hotel': 1, 'Country Life Hotel': 1, 'Sandgate RSL Memorial Club': 1, 'Eulo Queen Hotel': 1, 'Sixth Sense Bar and Club': 1, 'The Monk Brewery and Kitchen': 1, 'Black Opal Tabaret': 1, 'The St Kilda Branch': 1, 'Basalt': 1, \"Hotel Sweeney's\": 1, 'Maori Chief Hotel': 1, 'Royal Hotel Gurley': 1, 'Public': 1, 'Black Stump Hotel': 1, 'Metropol': 1, 'Brown Fox': 1, 'The King Street Brewhouse': 1, 'Shearers Arms': 1, 'Stirling Arms': 1, \"Lefty's Old Time Music Hall\": 1, 'Coonabarabran Hotel': 1, 'Roundabout Hotel': 1, \"Walsh's Hotel\": 1, 'Dickens Inn': 1, 'Crows Nest Hotel': 1, 'Shadows': 1, u'L\\xe9gendes Bar': 1, 'Dublin Docks Tavern': 1, 'The Buncha Hotel': 1, \"Scruffy Murphy's\": 1, 'Western Tavern': 1, 'Broadford Pub': 1, 'Ballan Hotel': 1, 'Billabong Hotel Motel': 1, 'Oturehua Tavern': 1, 'Scooters Sports Bar': 1, 'Golden Gate Hotel': 1, 'Marine Hotel': 1, 'Somerset Hotel-Motel': 1, \"Craythorne's Public House\": 1, 'Ashley Hotel': 1, 'The Aviary': 1, 'Doulton Bar (Village Belle)': 1, 'Hotel Commercial': 1, 'Craft Bar': 1, \"Denman's Cellar\": 1, 'Byford Tavern': 1, 'The Channon Tavern': 1, 'Little River Inn': 1, \"Shipwright's Arms Hotel\": 1, 'Duaringa Hotel': 1, 'Springton Hotel': 1, 'Coolah Valley Hotel': 1, 'Peel St Tavern': 1, 'Normanville Pub': 1, 'Sams Bar': 1, 'Coolabah Hotel': 1, 'Camp Hill Hotel': 1, 'Warilla Bowls Club': 1, 'Ingleburn Hotel': 1, 'Wychitella Railway Hotel': 1, 'Herdsman Tavern': 1, 'Backbencher Pub & Cafe': 1, 'Gilgari Tavern': 1, 'Ettamogah Pub': 1, 'Paint and Sip': 1, 'Boomerang Hotel': 1, 'Rosebud Hotel': 1, 'Kardinya Tavern': 1, 'Thomas Blamey Tavern': 1, 'Opera Bar': 1, 'The Clyde Hotel': 1, 'masu izakaya': 1, 'The Station Bar and Bistro': 1, 'Metz': 1, 'Walwa Hotel': 1, 'Rye Hotel': 1, 'Brew on Quay': 1, 'Cicada': 1, 'Montville Cafe Bar & Grill': 1, 'Dalby Hotel-Motel': 1, 'Bellbrook Hotel': 1, 'Forrest Brewery Cafe': 1, 'Exford Hotel': 1, 'Aldinga Hotel': 1, 'Albion Park Hotel': 1, 'Kambah Inn': 1, \"Beretta's Langwarrin Hotel\": 1, 'Walbundrie Hotel': 1, 'Drums Hotel': 1, 'The Cat & Fiddle': 1, 'Big Fish Tavern': 1, 'Falcon Hotel': 1, 'Meadow Inn': 1, 'The Austral': 1, 'Royal Saxon': 1, 'Mansfield': 1, 'Cowra Hotel': 1, 'Binnaway Bowling Club': 1, 'The Royal Hotel/Motel Resort': 1, 'Tea Gardens Hotel Motel': 1, 'Footscray Hotel': 1, 'Settlers Arms Hotel': 1, 'Erica Hotel': 1, 'Station 59': 1, 'The Cumberland': 1, 'Drop Bear Inn': 1, 'South West Rocks SLSC': 1, 'Mount Warning Hotel': 1, 'Panton Hill Hotel': 1, 'Tolmie Tavern': 1, 'Olary Hotel': 1, 'Orient Hotel': 1, 'Sandstone Hotel': 1, 'Hotel Brighton': 1, 'Old Crown Hotel': 1, 'Grand Old Crow Hotel': 1, 'Mt Kembla Hotel': 1, 'Kurow Hotel': 1, 'The Horseman': 1, 'The Brewers': 1, 'Puhoi Pub': 1, 'The Stanley Hotel': 1, 'Dargo Hotel': 1, 'Norlane Hotel': 1, 'Bushland Beach Tavern': 1, 'Hotel CBD': 1, 'Gardners Inn Hotel': 1, 'Ambassador Hotel': 1, 'Ashmore Tavern': 1, 'The George Hotel': 1, 'Berkeley Hotel': 1, 'Ocean Grove Hotel': 1, 'Cornucopia Hotel': 1, 'Bally Hotel': 1, 'Surf Rock Hotel': 1, 'Bluebonnet Barbecue': 1, 'Stumpers Bar Hotel': 1, 'Endeavour Tavern': 1, 'The Village': 1, 'Post office hotel': 1, 'Gem Hotel': 1, 'Worlds End Brewpub': 1, 'Hotel 5': 1, 'North Annandale Hotel': 1, 'Lake Brunner Resort': 1, 'Dingley International': 1, \"DT's\": 1, 'Little Desert Hotel': 1, 'Wembley Hotel': 1, 'Brecknock Hotel': 1, 'Walloon Saloon': 1, 'Mawson Lakes Hotel': 1, 'Merinda Hotel': 1, 'Hawkesbury Hotel': 1, 'The O Hotel': 1, 'Frankton Arm Tavern': 1, 'Sir John Franklin': 1, 'Horseshoe Inn': 1, 'Pedy Roadhouse': 1, 'The Charles Hotel': 1, 'Bells Hotel': 1, 'Knopwoods Retreat': 1, 'Elmhurst Hotel': 1, 'Guyra Hotel': 1, 'Heritage Hotel Motel': 1, 'Grace Darling Hotel': 1, 'The Pheonix': 1, 'The Exchange': 1, 'Campbelltown Pub': 1, 'The Com Club': 1, 'Old Globe Hotel (Closed)': 1, 'Tabac': 1, \"Cooley's Hotel\": 1, 'Tarven': 1, 'Moon Dog Brewery': 1, 'Bird in Hand': 1, 'Seanchai Irish Pub': 1, 'Lucky Start Tavern': 1, 'Bass Hotel': 1, 'Tuggeranong Vikings Rugby Club': 1, 'The George South Melbourne': 1, 'Monarch Hotel': 1, 'Larrimah Hotel': 1, 'Beadon bay Hotel': 1, 'Woodstock Royal Mail': 1, 'Hivesville Hotel': 1, 'Whisky + Alement': 1, 'Colac Bay Tavern & Holiday Park': 1, 'Shakespeare Hotel': 1, 'New Tattersalls Hotel': 1, 'Terrey Hills Tavern': 1, 'The Fortune of War': 1, 'Metropole Hotel': 1, 'Sport & Recreation Club': 1, 'Rosedale Grand Hotel': 1, 'Surfies Cronulla Beach': 1, 'Lautoka Club': 1, 'Glenmore Hotel': 1, 'Magpies Football Club': 1, 'Lloyds Hotel': 1, 'Red Room': 1, 'Old Canberra Inn': 1, 'Wunghnu Tavern': 1, 'Lionleigh Tavern': 1, 'Tumbarumba Bowling Club': 1, 'Homestead Brewery': 1, 'Blue Goose Hotel Motel': 1, 'Lake Macquarie Tavern': 1, 'Leichhardt Hotel Motel': 1, 'Bald Rock': 1, \"Mr. Mary's Hotel\": 1, 'Ocean Child Inn': 1, 'Firefly': 1, 'Cheltenham Hotel': 1, 'Ermington Hotel': 1, 'Coco Cubano': 1, \"The Old Town 'n' Country Tavern\": 1, 'Jerrys Plains Tavern': 1, 'Mansfield Tavern': 1, 'Keg & Brew': 1, 'Rodez Function and Conference Centre': 1, 'McSwiggans Irish Pub': 1, 'Highway Hotel': 1, 'Coburn Hotel': 1, 'Kingoonya': 1, 'Jerramungup Hotel': 1, 'Deschlers': 1, 'Tallarook Hotel': 1, 'Belmore Leauges Club': 1, 'Petersham Inn': 1, 'Carrier Arms': 1, 'Jarrahdale Tavern': 1, 'Commerical Hotel': 1, 'Colonial Hotel': 1, 'The Free House': 1, 'Launching Place Hotel': 1, 'Scarsdale Hotel': 1, 'Lansdowne Hotel': 1, 'Australind Tavern': 1, 'Percy Hotel': 1, 'The Squatters Arms': 1, 'Pine Grove Hotel': 1, 'Dugandan Hotel': 1, 'The Tap House': 1, 'North Beach Recreation and Bowling Club': 1, 'Oxford Hotel/Motel': 1, 'Hunt Club Hotel': 1, 'Clare Valley Brewing Company': 1, \"Monteith's\": 1, 'Wangi Hotel': 1, 'The Peter Lalor Hotel': 1, 'Bakers Creek Hotel': 1, 'The Mustard Pot': 1, 'Ballina Hotel': 1, 'Seabrook Pub': 1, 'Leonards house of love': 1, \"Queen's Head Cafe Bar\": 1, 'Sportsmans Arms Hotel': 1, 'Allawah Hotel': 1, 'The Golden Age': 1, 'Brookvale Hotel': 1, 'Rand Pub': 1, 'Crossways Hotel': 1, 'Bull & Barley Inn': 1, 'Papakura Tavern': 1, 'Empress Hotel': 1, 'Sanctuary Hotel': 1, 'Shaws Bay Hotel': 1, 'Edgeworth Tavern': 1, 'Telegraph Hotel Motel': 1, 'First and Last Hotel': 1, 'Nu Hotel': 1, 'Virginia Tavern': 1, \"Hermann's\": 1, 'Grand Central Station Hotel': 1, 'The Welcome Inn': 1, 'Allies Hotel': 1, 'The Camel': 1, 'Valve Bar': 1, 'Outback Inn Hotel': 1, \"Belvidere's Bar Bistro Bottleshop\": 1, 'Chats Bar & Cafe': 1, 'Cheers Tavern': 1, 'Yaraka Hotel': 1, \"Mickey Bourke's Koroit Hotel\": 1, 'Bemm River Hotel': 1, 'Bakers Arms Hotel': 1, 'Beaches Hotel': 1, 'Lord Stanley Hotel': 1, 'Park Tavern': 1, 'Whitfords Brewing Company by Beerland': 1, 'Rosebery RSL': 1, 'Codfish Hotel': 1, 'Desert Inn Hotel': 1, 'Kermandie Hotel': 1, 'Park Avenue Hotel': 1, 'Palm & Pawn Motor Inn - Tavern & Bistro': 1, 'Stones Corner Hotel': 1, 'Casterton Hotel': 1, 'El Cortez Hotel': 1, 'Curious Squire': 1, 'Lunatic Hotel and Motel': 1, 'Cascade Hotel': 1, 'Wongi Beach Hotel': 1, u'Bridie O\\u2019Reilly\\u2019s': 1, 'Limerick Hotel': 1, 'Meeniyan Hotel': 1, 'Murdoch Tavern': 1, 'BBarossa Brahaus Hotel': 1, 'Port Dock': 1, 'Buffalo Club': 1, 'Kensington Hotel': 1, 'The Moseley Bar & Kitchen': 1, 'Wheat Sheaf Hotel': 1, 'Kent Hotel': 1, 'The Queenslander Marsden Tavern': 1, 'Menzies Dergholm Hotel': 1, 'Elms Family Hotel (Permanently closed)': 1, 'Zagames': 1, 'Daly River Roadside Inn': 1, 'Tatong Tavern': 1, 'Harold Park Hotel': 1, 'Mittagong Hotel': 1, 'The Good Goat': 1, 'Fire Station Hotel': 1, 'Rusty Water Brewery': 1})\n"
     ]
    }
   ],
   "source": [
    "counts = Counter(names)"
   ]
  },
  {
   "cell_type": "code",
   "execution_count": 103,
   "metadata": {
    "collapsed": false
   },
   "outputs": [],
   "source": [
    "pubs = {}\n",
    "for pub in counts.most_common(100):\n",
    "    name, number = pub\n",
    "    pubs[name] = number\n",
    "\n",
    "infile = open('static/data/data.csv')\n",
    "outfile = open('static/data/data_filt.csv', 'w')\n",
    "csv_reader = csv.reader(infile)\n",
    "csv_writer = csv.writer(outfile)\n",
    "for row in csv_reader:\n",
    "    name = row[0]\n",
    "    if name in pubs:\n",
    "        # add number\n",
    "        row.append(pubs[name])\n",
    "        csv_writer.writerow(row)\n",
    "infile.close()\n",
    "outfile.close()"
   ]
  },
  {
   "cell_type": "code",
   "execution_count": 104,
   "metadata": {
    "collapsed": false
   },
   "outputs": [
    {
     "name": "stdout",
     "output_type": "stream",
     "text": [
      "Alexandra Hotel,,,,150.3299989,-33.7110355,2\r",
      "\r\n",
      "Commercial Hotel,,,,153.003494,-28.6204991,48\r",
      "\r\n",
      "Criterion Hotel,,,,151.2662204,-27.1863046,7\r",
      "\r\n",
      "Imperial Hotel,,,,151.2684774,-27.1794538,15\r",
      "\r\n",
      "Country Club Hotel,,,,151.2636139,-27.1835455,2\r",
      "\r\n",
      "Commercial Hotel,,,,151.2645838,-27.1824842,48\r",
      "\r\n",
      "Royal Hotel,,,,151.241874,-33.9183477,45\r",
      "\r\n",
      "Robin Hood Hotel,,,,151.2536568,-33.9008581,2\r",
      "\r\n",
      "Empire Hotel,,,,151.1679118,-33.8877485,4\r",
      "\r\n",
      "Victoria Hotel,,,,151.1672165,-33.8826123,20\r",
      "\r\n"
     ]
    }
   ],
   "source": [
    "!head static/data/data_filt.csv"
   ]
  },
  {
   "cell_type": "code",
   "execution_count": null,
   "metadata": {
    "collapsed": true
   },
   "outputs": [],
   "source": []
  }
 ],
 "metadata": {
  "kernelspec": {
   "display_name": "Python 2",
   "language": "python",
   "name": "python2"
  },
  "language_info": {
   "codemirror_mode": {
    "name": "ipython",
    "version": 2
   },
   "file_extension": ".py",
   "mimetype": "text/x-python",
   "name": "python",
   "nbconvert_exporter": "python",
   "pygments_lexer": "ipython2",
   "version": "2.7.12"
  }
 },
 "nbformat": 4,
 "nbformat_minor": 2
}
